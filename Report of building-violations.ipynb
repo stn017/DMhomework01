{
 "cells": [
  {
   "cell_type": "markdown",
   "metadata": {},
   "source": [
    "# Data Sources"
   ]
  },
  {
   "cell_type": "raw",
   "metadata": {},
   "source": [
    "# import data"
   ]
  },
  {
   "cell_type": "code",
   "execution_count": 1,
   "metadata": {},
   "outputs": [
    {
     "data": {
      "text/html": [
       "<div>\n",
       "<style scoped>\n",
       "    .dataframe tbody tr th:only-of-type {\n",
       "        vertical-align: middle;\n",
       "    }\n",
       "\n",
       "    .dataframe tbody tr th {\n",
       "        vertical-align: top;\n",
       "    }\n",
       "\n",
       "    .dataframe thead th {\n",
       "        text-align: right;\n",
       "    }\n",
       "</style>\n",
       "<table border=\"1\" class=\"dataframe\">\n",
       "  <thead>\n",
       "    <tr style=\"text-align: right;\">\n",
       "      <th></th>\n",
       "      <th>ID</th>\n",
       "      <th>VIOLATION LAST MODIFIED DATE</th>\n",
       "      <th>VIOLATION DATE</th>\n",
       "      <th>VIOLATION CODE</th>\n",
       "      <th>VIOLATION STATUS</th>\n",
       "      <th>VIOLATION STATUS DATE</th>\n",
       "      <th>VIOLATION DESCRIPTION</th>\n",
       "      <th>VIOLATION LOCATION</th>\n",
       "      <th>VIOLATION INSPECTOR COMMENTS</th>\n",
       "      <th>VIOLATION ORDINANCE</th>\n",
       "      <th>...</th>\n",
       "      <th>SSA</th>\n",
       "      <th>LATITUDE</th>\n",
       "      <th>LONGITUDE</th>\n",
       "      <th>LOCATION</th>\n",
       "      <th>Community Areas</th>\n",
       "      <th>Zip Codes</th>\n",
       "      <th>Boundaries - ZIP Codes</th>\n",
       "      <th>Census Tracts</th>\n",
       "      <th>Wards</th>\n",
       "      <th>Historical Wards 2003-2015</th>\n",
       "    </tr>\n",
       "  </thead>\n",
       "  <tbody>\n",
       "    <tr>\n",
       "      <th>0</th>\n",
       "      <td>6392482</td>\n",
       "      <td>2019-12-04T12:40:09.000</td>\n",
       "      <td>2019-12-04T00:00:00.000</td>\n",
       "      <td>CN196019</td>\n",
       "      <td>OPEN</td>\n",
       "      <td>NaN</td>\n",
       "      <td>NO POSTED ADDRESS</td>\n",
       "      <td>OTHER   :    :OTHER</td>\n",
       "      <td>BUILDING ADRESSES - INCOMPLETE WITH MISSING #'S.</td>\n",
       "      <td>Post address of building in conspicuous place ...</td>\n",
       "      <td>...</td>\n",
       "      <td>NaN</td>\n",
       "      <td>41.749169</td>\n",
       "      <td>-87.602551</td>\n",
       "      <td>{'latitude': '41.749169067345306', 'human_addr...</td>\n",
       "      <td>40.0</td>\n",
       "      <td>21546.0</td>\n",
       "      <td>61.0</td>\n",
       "      <td>247.0</td>\n",
       "      <td>35.0</td>\n",
       "      <td>9.0</td>\n",
       "    </tr>\n",
       "    <tr>\n",
       "      <th>1</th>\n",
       "      <td>6392480</td>\n",
       "      <td>2019-12-04T12:40:09.000</td>\n",
       "      <td>2019-12-04T00:00:00.000</td>\n",
       "      <td>CN061014</td>\n",
       "      <td>OPEN</td>\n",
       "      <td>NaN</td>\n",
       "      <td>REPAIR EXTERIOR WALL</td>\n",
       "      <td>OTHER   :    :OTHER</td>\n",
       "      <td>WEST AND SOUTH ELEVATIONS / EXTERIOR WALLS - M...</td>\n",
       "      <td>Failed to maintain the exterior walls of a bui...</td>\n",
       "      <td>...</td>\n",
       "      <td>NaN</td>\n",
       "      <td>41.749169</td>\n",
       "      <td>-87.602551</td>\n",
       "      <td>{'latitude': '41.749169067345306', 'human_addr...</td>\n",
       "      <td>40.0</td>\n",
       "      <td>21546.0</td>\n",
       "      <td>61.0</td>\n",
       "      <td>247.0</td>\n",
       "      <td>35.0</td>\n",
       "      <td>9.0</td>\n",
       "    </tr>\n",
       "    <tr>\n",
       "      <th>2</th>\n",
       "      <td>6392335</td>\n",
       "      <td>2019-12-04T14:00:12.000</td>\n",
       "      <td>2019-12-04T00:00:00.000</td>\n",
       "      <td>CN138106</td>\n",
       "      <td>OPEN</td>\n",
       "      <td>NaN</td>\n",
       "      <td>STOP/REMOVE NUISANCE</td>\n",
       "      <td>OTHER   :    :OTHER</td>\n",
       "      <td>YARD AREA; ABANDON VEHICLE.</td>\n",
       "      <td>Remove and stop nuisance. (7-28-060)</td>\n",
       "      <td>...</td>\n",
       "      <td>NaN</td>\n",
       "      <td>41.711751</td>\n",
       "      <td>-87.537842</td>\n",
       "      <td>{'latitude': '41.71175105491413', 'human_addre...</td>\n",
       "      <td>49.0</td>\n",
       "      <td>21202.0</td>\n",
       "      <td>25.0</td>\n",
       "      <td>528.0</td>\n",
       "      <td>47.0</td>\n",
       "      <td>47.0</td>\n",
       "    </tr>\n",
       "    <tr>\n",
       "      <th>3</th>\n",
       "      <td>6391883</td>\n",
       "      <td>2019-12-04T08:32:01.000</td>\n",
       "      <td>2019-12-04T00:00:00.000</td>\n",
       "      <td>CN197039</td>\n",
       "      <td>OPEN</td>\n",
       "      <td>NaN</td>\n",
       "      <td>RELOCATE SMOKE DETECTOR</td>\n",
       "      <td>INTERIOR:003 :</td>\n",
       "      <td>HALLWAY - SMOKE DETECTOR - 4FT BELOW CEILING.</td>\n",
       "      <td>Relocate improperly installed smoke detectors....</td>\n",
       "      <td>...</td>\n",
       "      <td>25.0</td>\n",
       "      <td>41.844521</td>\n",
       "      <td>-87.712416</td>\n",
       "      <td>{'latitude': '41.84452110252742', 'human_addre...</td>\n",
       "      <td>32.0</td>\n",
       "      <td>21569.0</td>\n",
       "      <td>57.0</td>\n",
       "      <td>755.0</td>\n",
       "      <td>28.0</td>\n",
       "      <td>14.0</td>\n",
       "    </tr>\n",
       "    <tr>\n",
       "      <th>4</th>\n",
       "      <td>6392369</td>\n",
       "      <td>2019-12-04T14:14:24.000</td>\n",
       "      <td>2019-12-04T00:00:00.000</td>\n",
       "      <td>CN065034</td>\n",
       "      <td>OPEN</td>\n",
       "      <td>NaN</td>\n",
       "      <td>REPAIR WINDOW SILLS</td>\n",
       "      <td>OTHER   :    :OTHER</td>\n",
       "      <td>EAST WINDOW SILLS; OPEN JOINTS.</td>\n",
       "      <td>Failed to maintain window sill in good repair ...</td>\n",
       "      <td>...</td>\n",
       "      <td>NaN</td>\n",
       "      <td>41.753908</td>\n",
       "      <td>-87.562784</td>\n",
       "      <td>{'latitude': '41.75390787131238', 'human_addre...</td>\n",
       "      <td>39.0</td>\n",
       "      <td>22538.0</td>\n",
       "      <td>24.0</td>\n",
       "      <td>246.0</td>\n",
       "      <td>37.0</td>\n",
       "      <td>43.0</td>\n",
       "    </tr>\n",
       "    <tr>\n",
       "      <th>...</th>\n",
       "      <td>...</td>\n",
       "      <td>...</td>\n",
       "      <td>...</td>\n",
       "      <td>...</td>\n",
       "      <td>...</td>\n",
       "      <td>...</td>\n",
       "      <td>...</td>\n",
       "      <td>...</td>\n",
       "      <td>...</td>\n",
       "      <td>...</td>\n",
       "      <td>...</td>\n",
       "      <td>...</td>\n",
       "      <td>...</td>\n",
       "      <td>...</td>\n",
       "      <td>...</td>\n",
       "      <td>...</td>\n",
       "      <td>...</td>\n",
       "      <td>...</td>\n",
       "      <td>...</td>\n",
       "      <td>...</td>\n",
       "      <td>...</td>\n",
       "    </tr>\n",
       "    <tr>\n",
       "      <th>1677783</th>\n",
       "      <td>1479309</td>\n",
       "      <td>2006-07-14T14:23:34.000</td>\n",
       "      <td>2006-01-01T00:00:00.000</td>\n",
       "      <td>CN198019</td>\n",
       "      <td>OPEN</td>\n",
       "      <td>NaN</td>\n",
       "      <td>FILE BLDG REGISTRATION</td>\n",
       "      <td>NaN</td>\n",
       "      <td>REGISTER BUILDING 2003-06</td>\n",
       "      <td>File building registration statement with Buil...</td>\n",
       "      <td>...</td>\n",
       "      <td>NaN</td>\n",
       "      <td>41.794852</td>\n",
       "      <td>-87.619674</td>\n",
       "      <td>{'latitude': '41.794852380662455', 'human_addr...</td>\n",
       "      <td>7.0</td>\n",
       "      <td>21192.0</td>\n",
       "      <td>10.0</td>\n",
       "      <td>401.0</td>\n",
       "      <td>9.0</td>\n",
       "      <td>12.0</td>\n",
       "    </tr>\n",
       "    <tr>\n",
       "      <th>1677784</th>\n",
       "      <td>1552683</td>\n",
       "      <td>2006-08-11T14:36:28.000</td>\n",
       "      <td>2006-01-01T00:00:00.000</td>\n",
       "      <td>NC2071</td>\n",
       "      <td>OPEN</td>\n",
       "      <td>NaN</td>\n",
       "      <td>WORK NOT ALLOWED</td>\n",
       "      <td>NaN</td>\n",
       "      <td>PERMIT REQUIRED FOR LINTEL REPLACEMENT</td>\n",
       "      <td>Remove work performed without permit and resto...</td>\n",
       "      <td>...</td>\n",
       "      <td>48.0</td>\n",
       "      <td>41.909590</td>\n",
       "      <td>-87.633245</td>\n",
       "      <td>{'latitude': '41.90959014268417', 'human_addre...</td>\n",
       "      <td>37.0</td>\n",
       "      <td>14926.0</td>\n",
       "      <td>54.0</td>\n",
       "      <td>290.0</td>\n",
       "      <td>46.0</td>\n",
       "      <td>51.0</td>\n",
       "    </tr>\n",
       "    <tr>\n",
       "      <th>1677785</th>\n",
       "      <td>1479310</td>\n",
       "      <td>2008-10-08T13:58:16.000</td>\n",
       "      <td>2006-01-01T00:00:00.000</td>\n",
       "      <td>CN190029</td>\n",
       "      <td>COMPLIED</td>\n",
       "      <td>2008-08-13T00:00:00.000</td>\n",
       "      <td>ARRANGE FOR REINSPECTION REGAR</td>\n",
       "      <td>NaN</td>\n",
       "      <td>ARRANGE FOR A RE-INSPECTION</td>\n",
       "      <td>pending notice reinspection</td>\n",
       "      <td>...</td>\n",
       "      <td>NaN</td>\n",
       "      <td>41.794852</td>\n",
       "      <td>-87.619674</td>\n",
       "      <td>{'latitude': '41.794852380662455', 'human_addr...</td>\n",
       "      <td>7.0</td>\n",
       "      <td>21192.0</td>\n",
       "      <td>10.0</td>\n",
       "      <td>401.0</td>\n",
       "      <td>9.0</td>\n",
       "      <td>12.0</td>\n",
       "    </tr>\n",
       "    <tr>\n",
       "      <th>1677786</th>\n",
       "      <td>1487027</td>\n",
       "      <td>2006-07-14T14:38:23.000</td>\n",
       "      <td>2006-01-01T00:00:00.000</td>\n",
       "      <td>EL0020</td>\n",
       "      <td>OPEN</td>\n",
       "      <td>NaN</td>\n",
       "      <td>SUPPORT FIXTURES</td>\n",
       "      <td>NaN</td>\n",
       "      <td>DUP VIOLATION</td>\n",
       "      <td>Support loose light fixture. (18-27-410.15, 18...</td>\n",
       "      <td>...</td>\n",
       "      <td>NaN</td>\n",
       "      <td>41.812888</td>\n",
       "      <td>-87.617602</td>\n",
       "      <td>{'latitude': '41.812888442188886', 'human_addr...</td>\n",
       "      <td>4.0</td>\n",
       "      <td>4301.0</td>\n",
       "      <td>36.0</td>\n",
       "      <td>162.0</td>\n",
       "      <td>9.0</td>\n",
       "      <td>12.0</td>\n",
       "    </tr>\n",
       "    <tr>\n",
       "      <th>1677787</th>\n",
       "      <td>1474071</td>\n",
       "      <td>2009-11-12T09:18:47.000</td>\n",
       "      <td>2006-01-01T00:00:00.000</td>\n",
       "      <td>CN074014</td>\n",
       "      <td>COMPLIED</td>\n",
       "      <td>2009-11-10T00:00:00.000</td>\n",
       "      <td>SERVICE WALK, PASSAGE, AREAWAY</td>\n",
       "      <td>NaN</td>\n",
       "      <td>REAR SERVICE WALK BROKEN &amp; BUCKLED CONCRETE</td>\n",
       "      <td>Failed to maintain exterior service walks, pas...</td>\n",
       "      <td>...</td>\n",
       "      <td>NaN</td>\n",
       "      <td>41.802877</td>\n",
       "      <td>-87.609908</td>\n",
       "      <td>{'latitude': '41.80287663210569', 'human_addre...</td>\n",
       "      <td>4.0</td>\n",
       "      <td>21192.0</td>\n",
       "      <td>10.0</td>\n",
       "      <td>165.0</td>\n",
       "      <td>10.0</td>\n",
       "      <td>1.0</td>\n",
       "    </tr>\n",
       "  </tbody>\n",
       "</table>\n",
       "<p>1677788 rows × 32 columns</p>\n",
       "</div>"
      ],
      "text/plain": [
       "              ID VIOLATION LAST MODIFIED DATE           VIOLATION DATE  \\\n",
       "0        6392482      2019-12-04T12:40:09.000  2019-12-04T00:00:00.000   \n",
       "1        6392480      2019-12-04T12:40:09.000  2019-12-04T00:00:00.000   \n",
       "2        6392335      2019-12-04T14:00:12.000  2019-12-04T00:00:00.000   \n",
       "3        6391883      2019-12-04T08:32:01.000  2019-12-04T00:00:00.000   \n",
       "4        6392369      2019-12-04T14:14:24.000  2019-12-04T00:00:00.000   \n",
       "...          ...                          ...                      ...   \n",
       "1677783  1479309      2006-07-14T14:23:34.000  2006-01-01T00:00:00.000   \n",
       "1677784  1552683      2006-08-11T14:36:28.000  2006-01-01T00:00:00.000   \n",
       "1677785  1479310      2008-10-08T13:58:16.000  2006-01-01T00:00:00.000   \n",
       "1677786  1487027      2006-07-14T14:38:23.000  2006-01-01T00:00:00.000   \n",
       "1677787  1474071      2009-11-12T09:18:47.000  2006-01-01T00:00:00.000   \n",
       "\n",
       "        VIOLATION CODE VIOLATION STATUS    VIOLATION STATUS DATE  \\\n",
       "0             CN196019             OPEN                      NaN   \n",
       "1             CN061014             OPEN                      NaN   \n",
       "2             CN138106             OPEN                      NaN   \n",
       "3             CN197039             OPEN                      NaN   \n",
       "4             CN065034             OPEN                      NaN   \n",
       "...                ...              ...                      ...   \n",
       "1677783       CN198019             OPEN                      NaN   \n",
       "1677784         NC2071             OPEN                      NaN   \n",
       "1677785       CN190029         COMPLIED  2008-08-13T00:00:00.000   \n",
       "1677786         EL0020             OPEN                      NaN   \n",
       "1677787       CN074014         COMPLIED  2009-11-10T00:00:00.000   \n",
       "\n",
       "                  VIOLATION DESCRIPTION   VIOLATION LOCATION  \\\n",
       "0                     NO POSTED ADDRESS  OTHER   :    :OTHER   \n",
       "1                  REPAIR EXTERIOR WALL  OTHER   :    :OTHER   \n",
       "2                  STOP/REMOVE NUISANCE  OTHER   :    :OTHER   \n",
       "3               RELOCATE SMOKE DETECTOR       INTERIOR:003 :   \n",
       "4                   REPAIR WINDOW SILLS  OTHER   :    :OTHER   \n",
       "...                                 ...                  ...   \n",
       "1677783          FILE BLDG REGISTRATION                  NaN   \n",
       "1677784                WORK NOT ALLOWED                  NaN   \n",
       "1677785  ARRANGE FOR REINSPECTION REGAR                  NaN   \n",
       "1677786                SUPPORT FIXTURES                  NaN   \n",
       "1677787  SERVICE WALK, PASSAGE, AREAWAY                  NaN   \n",
       "\n",
       "                              VIOLATION INSPECTOR COMMENTS  \\\n",
       "0         BUILDING ADRESSES - INCOMPLETE WITH MISSING #'S.   \n",
       "1        WEST AND SOUTH ELEVATIONS / EXTERIOR WALLS - M...   \n",
       "2                              YARD AREA; ABANDON VEHICLE.   \n",
       "3            HALLWAY - SMOKE DETECTOR - 4FT BELOW CEILING.   \n",
       "4                          EAST WINDOW SILLS; OPEN JOINTS.   \n",
       "...                                                    ...   \n",
       "1677783                          REGISTER BUILDING 2003-06   \n",
       "1677784             PERMIT REQUIRED FOR LINTEL REPLACEMENT   \n",
       "1677785                        ARRANGE FOR A RE-INSPECTION   \n",
       "1677786                                      DUP VIOLATION   \n",
       "1677787        REAR SERVICE WALK BROKEN & BUCKLED CONCRETE   \n",
       "\n",
       "                                       VIOLATION ORDINANCE  ...   SSA  \\\n",
       "0        Post address of building in conspicuous place ...  ...   NaN   \n",
       "1        Failed to maintain the exterior walls of a bui...  ...   NaN   \n",
       "2                     Remove and stop nuisance. (7-28-060)  ...   NaN   \n",
       "3        Relocate improperly installed smoke detectors....  ...  25.0   \n",
       "4        Failed to maintain window sill in good repair ...  ...   NaN   \n",
       "...                                                    ...  ...   ...   \n",
       "1677783  File building registration statement with Buil...  ...   NaN   \n",
       "1677784  Remove work performed without permit and resto...  ...  48.0   \n",
       "1677785                        pending notice reinspection  ...   NaN   \n",
       "1677786  Support loose light fixture. (18-27-410.15, 18...  ...   NaN   \n",
       "1677787  Failed to maintain exterior service walks, pas...  ...   NaN   \n",
       "\n",
       "          LATITUDE  LONGITUDE  \\\n",
       "0        41.749169 -87.602551   \n",
       "1        41.749169 -87.602551   \n",
       "2        41.711751 -87.537842   \n",
       "3        41.844521 -87.712416   \n",
       "4        41.753908 -87.562784   \n",
       "...            ...        ...   \n",
       "1677783  41.794852 -87.619674   \n",
       "1677784  41.909590 -87.633245   \n",
       "1677785  41.794852 -87.619674   \n",
       "1677786  41.812888 -87.617602   \n",
       "1677787  41.802877 -87.609908   \n",
       "\n",
       "                                                  LOCATION Community Areas  \\\n",
       "0        {'latitude': '41.749169067345306', 'human_addr...            40.0   \n",
       "1        {'latitude': '41.749169067345306', 'human_addr...            40.0   \n",
       "2        {'latitude': '41.71175105491413', 'human_addre...            49.0   \n",
       "3        {'latitude': '41.84452110252742', 'human_addre...            32.0   \n",
       "4        {'latitude': '41.75390787131238', 'human_addre...            39.0   \n",
       "...                                                    ...             ...   \n",
       "1677783  {'latitude': '41.794852380662455', 'human_addr...             7.0   \n",
       "1677784  {'latitude': '41.90959014268417', 'human_addre...            37.0   \n",
       "1677785  {'latitude': '41.794852380662455', 'human_addr...             7.0   \n",
       "1677786  {'latitude': '41.812888442188886', 'human_addr...             4.0   \n",
       "1677787  {'latitude': '41.80287663210569', 'human_addre...             4.0   \n",
       "\n",
       "        Zip Codes Boundaries - ZIP Codes  Census Tracts Wards  \\\n",
       "0         21546.0                   61.0          247.0  35.0   \n",
       "1         21546.0                   61.0          247.0  35.0   \n",
       "2         21202.0                   25.0          528.0  47.0   \n",
       "3         21569.0                   57.0          755.0  28.0   \n",
       "4         22538.0                   24.0          246.0  37.0   \n",
       "...           ...                    ...            ...   ...   \n",
       "1677783   21192.0                   10.0          401.0   9.0   \n",
       "1677784   14926.0                   54.0          290.0  46.0   \n",
       "1677785   21192.0                   10.0          401.0   9.0   \n",
       "1677786    4301.0                   36.0          162.0   9.0   \n",
       "1677787   21192.0                   10.0          165.0  10.0   \n",
       "\n",
       "        Historical Wards 2003-2015  \n",
       "0                              9.0  \n",
       "1                              9.0  \n",
       "2                             47.0  \n",
       "3                             14.0  \n",
       "4                             43.0  \n",
       "...                            ...  \n",
       "1677783                       12.0  \n",
       "1677784                       51.0  \n",
       "1677785                       12.0  \n",
       "1677786                       12.0  \n",
       "1677787                        1.0  \n",
       "\n",
       "[1677788 rows x 32 columns]"
      ]
     },
     "execution_count": 1,
     "metadata": {},
     "output_type": "execute_result"
    }
   ],
   "source": [
    "import pandas as pd\n",
    "import matplotlib.pyplot as plt\n",
    "import numpy as np\n",
    "bv_reviews = pd.read_csv(\"./data/building-violations.csv\")\n",
    "bv_reviews"
   ]
  },
  {
   "cell_type": "markdown",
   "metadata": {},
   "source": [
    "# Data Visualization and Summary"
   ]
  },
  {
   "cell_type": "raw",
   "metadata": {},
   "source": [
    "# Nominal type：\n",
    "# VIOLATION CODE, VIOLATION DESCRIPTION, VIOLATION LOCATION, INSPECTOR ID, INSPECTION STATUS, INSPECTION CATEGORY, DEPARTMENT BUREAU, STREET DIRECTION, STREET TYPE, Community Areas, Zip Codes, Boundaries - ZIP Codes, Census Tracts, Wards, Historical Wards 2003-2015\n",
    "\n",
    "# Numeric type:\n",
    "# LATITUDE, LONGITUDE"
   ]
  },
  {
   "cell_type": "raw",
   "metadata": {},
   "source": [
    "# Nominal type："
   ]
  },
  {
   "cell_type": "raw",
   "metadata": {},
   "source": [
    "# VIOLATION CODE"
   ]
  },
  {
   "cell_type": "code",
   "execution_count": 2,
   "metadata": {},
   "outputs": [
    {
     "data": {
      "text/plain": [
       "VIOLATION CODE\n",
       "ES0101          1\n",
       "EV0100          1\n",
       "EV0097          1\n",
       "EV0096          1\n",
       "EV0079          1\n",
       "            ...  \n",
       "CN070024    43673\n",
       "EV1110      43700\n",
       "CN061014    51946\n",
       "CN196029    58136\n",
       "CN190019    89995\n",
       "Name: ID, Length: 1468, dtype: int64"
      ]
     },
     "execution_count": 2,
     "metadata": {},
     "output_type": "execute_result"
    }
   ],
   "source": [
    "bv_reviews.groupby('VIOLATION CODE').ID.count().sort_values()"
   ]
  },
  {
   "cell_type": "code",
   "execution_count": 3,
   "metadata": {},
   "outputs": [
    {
     "data": {
      "text/plain": [
       "<matplotlib.axes._subplots.AxesSubplot at 0x1fac99b9430>"
      ]
     },
     "execution_count": 3,
     "metadata": {},
     "output_type": "execute_result"
    },
    {
     "data": {
      "image/png": "[encoded data removed]",
      "text/plain": [
       "<Figure size 432x288 with 1 Axes>"
      ]
     },
     "metadata": {
      "needs_background": "light"
     },
     "output_type": "display_data"
    }
   ],
   "source": [
    "VC_filter_reviews = bv_reviews.groupby('VIOLATION CODE').filter(lambda x: len(x) >= 25000)\n",
    "VC_reviews = VC_filter_reviews.groupby('VIOLATION CODE').ID.count().sort_values()\n",
    "VC_reviews.plot.bar()"
   ]
  },
  {
   "cell_type": "raw",
   "metadata": {},
   "source": [
    "# VIOLATION DESCRIPTION"
   ]
  },
  {
   "cell_type": "code",
   "execution_count": 4,
   "metadata": {},
   "outputs": [
    {
     "data": {
      "text/plain": [
       "VIOLATION DESCRIPTION\n",
       "ZONING REQUIRES ADDTL REVIEW          1\n",
       "REPR FIRE ESCAPE OF VCNT CMPRM        1\n",
       "PROVIDE LOAD CALCULATIONS FOR         1\n",
       "INSTALL NON-VISION H/W DR FRT         1\n",
       "PROVIDE METAL PLAT/GRD FRT            1\n",
       "                                  ...  \n",
       "REPAIR PORCH SYSTEM               43673\n",
       "MAINTAIN OR REPAIR ELECT ELEVA    43700\n",
       "REPAIR EXTERIOR WALL              51946\n",
       "POST OWNER/MANAGERS NAME/#        58136\n",
       "ARRANGE PREMISE INSPECTION        90004\n",
       "Name: ID, Length: 1312, dtype: int64"
      ]
     },
     "execution_count": 4,
     "metadata": {},
     "output_type": "execute_result"
    }
   ],
   "source": [
    "bv_reviews.groupby('VIOLATION DESCRIPTION').ID.count().sort_values()"
   ]
  },
  {
   "cell_type": "code",
   "execution_count": 5,
   "metadata": {},
   "outputs": [
    {
     "data": {
      "text/plain": [
       "<matplotlib.axes._subplots.AxesSubplot at 0x1fac9a3c820>"
      ]
     },
     "execution_count": 5,
     "metadata": {},
     "output_type": "execute_result"
    },
    {
     "data": {
      "image/png": "[encoded data removed]",
      "text/plain": [
       "<Figure size 432x288 with 1 Axes>"
      ]
     },
     "metadata": {
      "needs_background": "light"
     },
     "output_type": "display_data"
    }
   ],
   "source": [
    "VD_filter_reviews = bv_reviews.groupby('VIOLATION DESCRIPTION').filter(lambda x: len(x) >= 25000)\n",
    "VD_reviews = VD_filter_reviews.groupby('VIOLATION DESCRIPTION').ID.count().sort_values()\n",
    "VD_reviews.plot.bar()"
   ]
  },
  {
   "cell_type": "raw",
   "metadata": {},
   "source": [
    "# VIOLATION LOCATION"
   ]
  },
  {
   "cell_type": "code",
   "execution_count": 6,
   "metadata": {},
   "outputs": [
    {
     "data": {
      "text/plain": [
       "VIOLATION LOCATION\n",
       "!ST FLOOR                                      1\n",
       "INTERIOR:003 :8236  3W                         1\n",
       "INTERIOR:003 :8243 3RD                         1\n",
       "INTERIOR:003 :8243 3RD FLOOR APARTMENT         1\n",
       "INTERIOR:003 :826 E. APT. # 3.                 1\n",
       "                                           ...  \n",
       "EXTERIOR:W   :                             19460\n",
       "EXTERIOR:E   :                             21522\n",
       "OTHER   :    :BUILDING                     21934\n",
       "OTHER   :    :OTHER                        35182\n",
       "OTHER   :    :                            284277\n",
       "Name: ID, Length: 52821, dtype: int64"
      ]
     },
     "execution_count": 6,
     "metadata": {},
     "output_type": "execute_result"
    }
   ],
   "source": [
    "bv_reviews.groupby('VIOLATION LOCATION').ID.count().sort_values()"
   ]
  },
  {
   "cell_type": "code",
   "execution_count": 7,
   "metadata": {},
   "outputs": [
    {
     "data": {
      "text/plain": [
       "<matplotlib.axes._subplots.AxesSubplot at 0x1fac9af0610>"
      ]
     },
     "execution_count": 7,
     "metadata": {},
     "output_type": "execute_result"
    },
    {
     "data": {
      "image/png": "[encoded data removed]",
      "text/plain": [
       "<Figure size 432x288 with 1 Axes>"
      ]
     },
     "metadata": {
      "needs_background": "light"
     },
     "output_type": "display_data"
    }
   ],
   "source": [
    "VL_filter_reviews = bv_reviews.groupby('VIOLATION LOCATION').filter(lambda x: len(x) >= 10000)\n",
    "VL_reviews = VL_filter_reviews.groupby('VIOLATION LOCATION').ID.count().sort_values()\n",
    "VL_reviews.plot.bar()"
   ]
  },
  {
   "cell_type": "raw",
   "metadata": {},
   "source": [
    "# INSPECTOR ID"
   ]
  },
  {
   "cell_type": "code",
   "execution_count": 8,
   "metadata": {},
   "outputs": [
    {
     "data": {
      "text/plain": [
       "INSPECTOR ID\n",
       "557556           1\n",
       "DS00009          1\n",
       "CN00085PL        2\n",
       "290668           2\n",
       "BL00888          2\n",
       "             ...  \n",
       "BL00941      48717\n",
       "BL00746      48797\n",
       "BL00831      52450\n",
       "BL01000      58497\n",
       "BL00444      79336\n",
       "Name: ID, Length: 361, dtype: int64"
      ]
     },
     "execution_count": 8,
     "metadata": {},
     "output_type": "execute_result"
    }
   ],
   "source": [
    "bv_reviews.groupby('INSPECTOR ID').ID.count().sort_values()"
   ]
  },
  {
   "cell_type": "code",
   "execution_count": 9,
   "metadata": {},
   "outputs": [
    {
     "data": {
      "text/plain": [
       "<matplotlib.axes._subplots.AxesSubplot at 0x1faca384ca0>"
      ]
     },
     "execution_count": 9,
     "metadata": {},
     "output_type": "execute_result"
    },
    {
     "data": {
      "image/png": "[encoded data removed]",
      "text/plain": [
       "<Figure size 432x288 with 1 Axes>"
      ]
     },
     "metadata": {
      "needs_background": "light"
     },
     "output_type": "display_data"
    }
   ],
   "source": [
    "IID_filter_reviews = bv_reviews.groupby('INSPECTOR ID').filter(lambda x: len(x) >= 15000)\n",
    "IID_reviews = IID_filter_reviews.groupby('INSPECTOR ID').ID.count().sort_values()\n",
    "IID_reviews.plot.bar()"
   ]
  },
  {
   "cell_type": "raw",
   "metadata": {},
   "source": [
    "# INSPECTION STATUS"
   ]
  },
  {
   "cell_type": "code",
   "execution_count": 10,
   "metadata": {},
   "outputs": [
    {
     "data": {
      "text/plain": [
       "INSPECTION STATUS\n",
       "HOLD          154\n",
       "CLOSED     224784\n",
       "PASSED     293076\n",
       "FAILED    1159758\n",
       "Name: ID, dtype: int64"
      ]
     },
     "execution_count": 10,
     "metadata": {},
     "output_type": "execute_result"
    }
   ],
   "source": [
    "bv_reviews.groupby('INSPECTION STATUS').ID.count().sort_values()"
   ]
  },
  {
   "cell_type": "code",
   "execution_count": 11,
   "metadata": {},
   "outputs": [
    {
     "data": {
      "text/plain": [
       "<matplotlib.axes._subplots.AxesSubplot at 0x1faca465040>"
      ]
     },
     "execution_count": 11,
     "metadata": {},
     "output_type": "execute_result"
    },
    {
     "data": {
      "image/png": "[encoded data removed]",
      "text/plain": [
       "<Figure size 432x288 with 1 Axes>"
      ]
     },
     "metadata": {
      "needs_background": "light"
     },
     "output_type": "display_data"
    }
   ],
   "source": [
    "IS_filter_reviews = bv_reviews.groupby('INSPECTION STATUS').filter(lambda x: len(x) >= 100)\n",
    "IS_reviews = IS_filter_reviews.groupby('INSPECTION STATUS').ID.count().sort_values()\n",
    "IS_reviews.plot.bar()"
   ]
  },
  {
   "cell_type": "raw",
   "metadata": {},
   "source": [
    "# INSPECTION CATEGORY"
   ]
  },
  {
   "cell_type": "code",
   "execution_count": 12,
   "metadata": {},
   "outputs": [
    {
     "data": {
      "text/plain": [
       "INSPECTION CATEGORY\n",
       "REGISTRATION       2586\n",
       "PERMIT            73600\n",
       "PERIODIC         415176\n",
       "COMPLAINT       1186426\n",
       "Name: ID, dtype: int64"
      ]
     },
     "execution_count": 12,
     "metadata": {},
     "output_type": "execute_result"
    }
   ],
   "source": [
    "bv_reviews.groupby('INSPECTION CATEGORY').ID.count().sort_values()"
   ]
  },
  {
   "cell_type": "code",
   "execution_count": 13,
   "metadata": {},
   "outputs": [
    {
     "data": {
      "text/plain": [
       "<matplotlib.axes._subplots.AxesSubplot at 0x1faca4c14f0>"
      ]
     },
     "execution_count": 13,
     "metadata": {},
     "output_type": "execute_result"
    },
    {
     "data": {
      "image/png": "[encoded data removed]",
      "text/plain": [
       "<Figure size 432x288 with 1 Axes>"
      ]
     },
     "metadata": {
      "needs_background": "light"
     },
     "output_type": "display_data"
    }
   ],
   "source": [
    "IC_filter_reviews = bv_reviews.groupby('INSPECTION CATEGORY').filter(lambda x: len(x) >= 2000)\n",
    "IC_reviews = IC_filter_reviews.groupby('INSPECTION CATEGORY').ID.count().sort_values()\n",
    "IC_reviews.plot.bar()"
   ]
  },
  {
   "cell_type": "raw",
   "metadata": {},
   "source": [
    "# DEPARTMENT BUREAU"
   ]
  },
  {
   "cell_type": "code",
   "execution_count": 14,
   "metadata": {},
   "outputs": [
    {
     "data": {
      "text/plain": [
       "DEPARTMENT BUREAU\n",
       "CONSTRUCTION EQUIPMENT            556\n",
       "WATER                             786\n",
       "IRON                            14405\n",
       "SIGNS                           14539\n",
       "SPECIAL INSPECTION PROGRAM      21033\n",
       "PLUMBING                        28199\n",
       "REFRIGERATION                   29681\n",
       "NEW CONSTRUCTION                29938\n",
       "BOILER                          31235\n",
       "VENTILATION                     32108\n",
       "ELECTRICAL                      37243\n",
       "ELEVATOR                        85805\n",
       "SPECIAL TASK FORCE             115885\n",
       "DEMOLITION                     125464\n",
       "CONSERVATION                  1110911\n",
       "Name: ID, dtype: int64"
      ]
     },
     "execution_count": 14,
     "metadata": {},
     "output_type": "execute_result"
    }
   ],
   "source": [
    "bv_reviews.groupby('DEPARTMENT BUREAU').ID.count().sort_values()"
   ]
  },
  {
   "cell_type": "code",
   "execution_count": 15,
   "metadata": {},
   "outputs": [
    {
     "data": {
      "text/plain": [
       "<matplotlib.axes._subplots.AxesSubplot at 0x1faca50a850>"
      ]
     },
     "execution_count": 15,
     "metadata": {},
     "output_type": "execute_result"
    },
    {
     "data": {
      "image/png": "[encoded data removed]",
      "text/plain": [
       "<Figure size 432x288 with 1 Axes>"
      ]
     },
     "metadata": {
      "needs_background": "light"
     },
     "output_type": "display_data"
    }
   ],
   "source": [
    "DB_filter_reviews = bv_reviews.groupby('DEPARTMENT BUREAU').filter(lambda x: len(x) >= 120)\n",
    "DB_reviews = DB_filter_reviews.groupby('DEPARTMENT BUREAU').ID.count().sort_values()\n",
    "DB_reviews.plot.bar()"
   ]
  },
  {
   "cell_type": "raw",
   "metadata": {},
   "source": [
    "# STREET DIRECTION"
   ]
  },
  {
   "cell_type": "code",
   "execution_count": 16,
   "metadata": {},
   "outputs": [
    {
     "data": {
      "text/plain": [
       "STREET DIRECTION\n",
       "E     98207\n",
       "N    395246\n",
       "W    500418\n",
       "S    683917\n",
       "Name: ID, dtype: int64"
      ]
     },
     "execution_count": 16,
     "metadata": {},
     "output_type": "execute_result"
    }
   ],
   "source": [
    "bv_reviews.groupby('STREET DIRECTION').ID.count().sort_values()"
   ]
  },
  {
   "cell_type": "code",
   "execution_count": 17,
   "metadata": {},
   "outputs": [
    {
     "data": {
      "text/plain": [
       "<matplotlib.axes._subplots.AxesSubplot at 0x1faca57f3a0>"
      ]
     },
     "execution_count": 17,
     "metadata": {},
     "output_type": "execute_result"
    },
    {
     "data": {
      "image/png": "[encoded data removed]",
      "text/plain": [
       "<Figure size 432x288 with 1 Axes>"
      ]
     },
     "metadata": {
      "needs_background": "light"
     },
     "output_type": "display_data"
    }
   ],
   "source": [
    "SD_filter_reviews = bv_reviews.groupby('STREET DIRECTION').filter(lambda x: len(x) >= 120)\n",
    "SD_reviews = SD_filter_reviews.groupby('STREET DIRECTION').ID.count().sort_values()\n",
    "SD_reviews.plot.bar()"
   ]
  },
  {
   "cell_type": "raw",
   "metadata": {},
   "source": [
    "# STREET TYPE"
   ]
  },
  {
   "cell_type": "code",
   "execution_count": 18,
   "metadata": {},
   "outputs": [
    {
     "data": {
      "text/plain": [
       "STREET TYPE\n",
       "LN           3\n",
       "WAY          8\n",
       "EXPY        10\n",
       "PLZ        639\n",
       "HWY       1559\n",
       "TER       2222\n",
       "CT        3287\n",
       "PKWY      6605\n",
       "DR       27145\n",
       "RD       41100\n",
       "PL       57665\n",
       "BLVD     59536\n",
       "ST      523743\n",
       "AVE     940725\n",
       "Name: ID, dtype: int64"
      ]
     },
     "execution_count": 18,
     "metadata": {},
     "output_type": "execute_result"
    }
   ],
   "source": [
    "bv_reviews.groupby('STREET TYPE').ID.count().sort_values()"
   ]
  },
  {
   "cell_type": "code",
   "execution_count": 19,
   "metadata": {},
   "outputs": [
    {
     "data": {
      "text/plain": [
       "<matplotlib.axes._subplots.AxesSubplot at 0x1faca5e5eb0>"
      ]
     },
     "execution_count": 19,
     "metadata": {},
     "output_type": "execute_result"
    },
    {
     "data": {
      "image/png": "[encoded data removed]",
      "text/plain": [
       "<Figure size 432x288 with 1 Axes>"
      ]
     },
     "metadata": {
      "needs_background": "light"
     },
     "output_type": "display_data"
    }
   ],
   "source": [
    "ST_filter_reviews = bv_reviews.groupby('STREET TYPE').filter(lambda x: len(x) >= 3)\n",
    "ST_reviews = ST_filter_reviews.groupby('STREET TYPE').ID.count().sort_values()\n",
    "ST_reviews.plot.bar()"
   ]
  },
  {
   "cell_type": "raw",
   "metadata": {},
   "source": [
    "# Community Areas"
   ]
  },
  {
   "cell_type": "code",
   "execution_count": 20,
   "metadata": {},
   "outputs": [
    {
     "data": {
      "text/plain": [
       "Community Areas\n",
       "77.0     1890\n",
       "2.0      1914\n",
       "51.0     2126\n",
       "43.0     2893\n",
       "75.0     3089\n",
       "        ...  \n",
       "25.0    54301\n",
       "30.0    54436\n",
       "24.0    54934\n",
       "39.0    62879\n",
       "26.0    97754\n",
       "Name: ID, Length: 77, dtype: int64"
      ]
     },
     "execution_count": 20,
     "metadata": {},
     "output_type": "execute_result"
    }
   ],
   "source": [
    "bv_reviews.groupby('Community Areas').ID.count().sort_values()"
   ]
  },
  {
   "cell_type": "code",
   "execution_count": 21,
   "metadata": {},
   "outputs": [
    {
     "data": {
      "text/plain": [
       "<matplotlib.axes._subplots.AxesSubplot at 0x1faca669fa0>"
      ]
     },
     "execution_count": 21,
     "metadata": {},
     "output_type": "execute_result"
    },
    {
     "data": {
      "image/png": "[encoded data removed]",
      "text/plain": [
       "<Figure size 432x288 with 1 Axes>"
      ]
     },
     "metadata": {
      "needs_background": "light"
     },
     "output_type": "display_data"
    }
   ],
   "source": [
    "CA_filter_reviews = bv_reviews.groupby('Community Areas').filter(lambda x: len(x) >= 25000)\n",
    "CA_reviews = CA_filter_reviews.groupby('Community Areas').ID.count().sort_values()\n",
    "CA_reviews.plot.bar()"
   ]
  },
  {
   "cell_type": "raw",
   "metadata": {},
   "source": [
    "# Zip Codes"
   ]
  },
  {
   "cell_type": "code",
   "execution_count": 22,
   "metadata": {},
   "outputs": [
    {
     "data": {
      "text/plain": [
       "Zip Codes\n",
       "16181.0        4\n",
       "4456.0         7\n",
       "9012.0        14\n",
       "4457.0        21\n",
       "4458.0        22\n",
       "           ...  \n",
       "22257.0    61235\n",
       "21202.0    63458\n",
       "21546.0    67402\n",
       "21861.0    69403\n",
       "21569.0    79463\n",
       "Name: ID, Length: 66, dtype: int64"
      ]
     },
     "execution_count": 22,
     "metadata": {},
     "output_type": "execute_result"
    }
   ],
   "source": [
    "bv_reviews.groupby('Zip Codes').ID.count().sort_values()"
   ]
  },
  {
   "cell_type": "code",
   "execution_count": 23,
   "metadata": {},
   "outputs": [
    {
     "data": {
      "text/plain": [
       "<matplotlib.axes._subplots.AxesSubplot at 0x1faca57f850>"
      ]
     },
     "execution_count": 23,
     "metadata": {},
     "output_type": "execute_result"
    },
    {
     "data": {
      "image/png": "[encoded data removed]",
      "text/plain": [
       "<Figure size 432x288 with 1 Axes>"
      ]
     },
     "metadata": {
      "needs_background": "light"
     },
     "output_type": "display_data"
    }
   ],
   "source": [
    "ZC_filter_reviews = bv_reviews.groupby('Zip Codes').filter(lambda x: len(x) >= 20000)\n",
    "ZC_reviews = ZC_filter_reviews.groupby('Zip Codes').ID.count().sort_values()\n",
    "ZC_reviews.plot.bar()"
   ]
  },
  {
   "cell_type": "raw",
   "metadata": {},
   "source": [
    "# Boundaries - ZIP Codes"
   ]
  },
  {
   "cell_type": "code",
   "execution_count": 24,
   "metadata": {},
   "outputs": [
    {
     "data": {
      "text/plain": [
       "Boundaries - ZIP Codes\n",
       "38.0      145\n",
       "27.0      342\n",
       "51.0      349\n",
       "47.0     1989\n",
       "29.0     2028\n",
       "        ...  \n",
       "59.0    62103\n",
       "25.0    63330\n",
       "61.0    67501\n",
       "19.0    68579\n",
       "57.0    80508\n",
       "Name: ID, Length: 61, dtype: int64"
      ]
     },
     "execution_count": 24,
     "metadata": {},
     "output_type": "execute_result"
    }
   ],
   "source": [
    "bv_reviews.groupby('Boundaries - ZIP Codes').ID.count().sort_values()"
   ]
  },
  {
   "cell_type": "code",
   "execution_count": 25,
   "metadata": {},
   "outputs": [
    {
     "data": {
      "text/plain": [
       "<matplotlib.axes._subplots.AxesSubplot at 0x1facb095820>"
      ]
     },
     "execution_count": 25,
     "metadata": {},
     "output_type": "execute_result"
    },
    {
     "data": {
      "image/png": "[encoded data removed]",
      "text/plain": [
       "<Figure size 432x288 with 1 Axes>"
      ]
     },
     "metadata": {
      "needs_background": "light"
     },
     "output_type": "display_data"
    }
   ],
   "source": [
    "BZC_filter_reviews = bv_reviews.groupby('Boundaries - ZIP Codes').filter(lambda x: len(x) >= 20000)\n",
    "BZC_reviews = BZC_filter_reviews.groupby('Boundaries - ZIP Codes').ID.count().sort_values()\n",
    "BZC_reviews.plot.bar()"
   ]
  },
  {
   "cell_type": "raw",
   "metadata": {},
   "source": [
    "# Census Tracts"
   ]
  },
  {
   "cell_type": "code",
   "execution_count": 26,
   "metadata": {},
   "outputs": [
    {
     "data": {
      "text/plain": [
       "Census Tracts\n",
       "313.0        1\n",
       "334.0        3\n",
       "414.0       27\n",
       "415.0       42\n",
       "219.0       52\n",
       "         ...  \n",
       "332.0     8091\n",
       "456.0     8270\n",
       "319.0     8275\n",
       "584.0     9120\n",
       "92.0     10207\n",
       "Name: ID, Length: 801, dtype: int64"
      ]
     },
     "execution_count": 26,
     "metadata": {},
     "output_type": "execute_result"
    }
   ],
   "source": [
    "bv_reviews.groupby('Census Tracts').ID.count().sort_values()"
   ]
  },
  {
   "cell_type": "code",
   "execution_count": 27,
   "metadata": {},
   "outputs": [
    {
     "data": {
      "text/plain": [
       "<matplotlib.axes._subplots.AxesSubplot at 0x1facb172640>"
      ]
     },
     "execution_count": 27,
     "metadata": {},
     "output_type": "execute_result"
    },
    {
     "data": {
      "image/png": "[encoded data removed]",
      "text/plain": [
       "<Figure size 432x288 with 1 Axes>"
      ]
     },
     "metadata": {
      "needs_background": "light"
     },
     "output_type": "display_data"
    }
   ],
   "source": [
    "CTS_filter_reviews = bv_reviews.groupby('Census Tracts').filter(lambda x: len(x) >= 2000)\n",
    "CTS_reviews = CTS_filter_reviews.groupby('Census Tracts').ID.count().sort_values()\n",
    "CTS_reviews.plot.bar()"
   ]
  },
  {
   "cell_type": "raw",
   "metadata": {},
   "source": [
    "# Wards"
   ]
  },
  {
   "cell_type": "code",
   "execution_count": 28,
   "metadata": {},
   "outputs": [
    {
     "data": {
      "text/plain": [
       "Wards\n",
       "29.0    10238\n",
       "15.0    12964\n",
       "42.0    13119\n",
       "19.0    14995\n",
       "6.0     15819\n",
       "30.0    16740\n",
       "38.0    18377\n",
       "50.0    18714\n",
       "39.0    18860\n",
       "34.0    19901\n",
       "18.0    20475\n",
       "8.0     21492\n",
       "21.0    21823\n",
       "44.0    21887\n",
       "24.0    22401\n",
       "25.0    23124\n",
       "11.0    24010\n",
       "16.0    24116\n",
       "40.0    24388\n",
       "27.0    24460\n",
       "10.0    24672\n",
       "20.0    24707\n",
       "28.0    25076\n",
       "17.0    26832\n",
       "12.0    28551\n",
       "26.0    31054\n",
       "48.0    31417\n",
       "5.0     31759\n",
       "1.0     32926\n",
       "47.0    34787\n",
       "36.0    35042\n",
       "3.0     36092\n",
       "13.0    36719\n",
       "49.0    37524\n",
       "41.0    37981\n",
       "33.0    38805\n",
       "9.0     39017\n",
       "43.0    42013\n",
       "7.0     42138\n",
       "22.0    43692\n",
       "35.0    49887\n",
       "45.0    53321\n",
       "31.0    53403\n",
       "37.0    54373\n",
       "46.0    55818\n",
       "14.0    63290\n",
       "23.0    67614\n",
       "4.0     68054\n",
       "32.0    69159\n",
       "2.0     71883\n",
       "Name: ID, dtype: int64"
      ]
     },
     "execution_count": 28,
     "metadata": {},
     "output_type": "execute_result"
    }
   ],
   "source": [
    "bv_reviews.groupby('Wards').ID.count().sort_values()"
   ]
  },
  {
   "cell_type": "code",
   "execution_count": 29,
   "metadata": {},
   "outputs": [
    {
     "data": {
      "text/plain": [
       "<matplotlib.axes._subplots.AxesSubplot at 0x1facbab7ee0>"
      ]
     },
     "execution_count": 29,
     "metadata": {},
     "output_type": "execute_result"
    },
    {
     "data": {
      "image/png": "[encoded data removed]",
      "text/plain": [
       "<Figure size 432x288 with 1 Axes>"
      ]
     },
     "metadata": {
      "needs_background": "light"
     },
     "output_type": "display_data"
    }
   ],
   "source": [
    "Wards_filter_reviews = bv_reviews.groupby('Wards').filter(lambda x: len(x) >= 2000)\n",
    "Wards_reviews = Wards_filter_reviews.groupby('Wards').ID.count().sort_values()\n",
    "Wards_reviews.plot.bar()"
   ]
  },
  {
   "cell_type": "raw",
   "metadata": {},
   "source": [
    "# Historical Wards 2003-2015"
   ]
  },
  {
   "cell_type": "code",
   "execution_count": 30,
   "metadata": {},
   "outputs": [
    {
     "data": {
      "text/plain": [
       "Historical Wards 2003-2015\n",
       "34.0    10764\n",
       "35.0    13002\n",
       "33.0    13568\n",
       "39.0    15236\n",
       "23.0    17565\n",
       "20.0    19068\n",
       "25.0    19129\n",
       "37.0    19773\n",
       "13.0    19992\n",
       "6.0     20539\n",
       "28.0    20849\n",
       "51.0    21347\n",
       "1.0     22364\n",
       "40.0    22943\n",
       "46.0    23139\n",
       "2.0     23529\n",
       "38.0    23824\n",
       "29.0    25391\n",
       "14.0    25875\n",
       "42.0    25902\n",
       "15.0    26584\n",
       "27.0    26957\n",
       "49.0    27515\n",
       "3.0     29475\n",
       "16.0    29539\n",
       "8.0     31085\n",
       "7.0     31309\n",
       "47.0    34471\n",
       "10.0    34525\n",
       "24.0    34635\n",
       "26.0    36307\n",
       "18.0    37804\n",
       "30.0    38215\n",
       "48.0    38575\n",
       "12.0    38754\n",
       "22.0    39765\n",
       "52.0    39807\n",
       "32.0    41825\n",
       "45.0    41913\n",
       "4.0     42713\n",
       "9.0     43862\n",
       "43.0    49014\n",
       "44.0    52222\n",
       "41.0    52633\n",
       "31.0    53830\n",
       "19.0    55699\n",
       "53.0    61275\n",
       "17.0    62891\n",
       "11.0    67299\n",
       "36.0    71212\n",
       "Name: ID, dtype: int64"
      ]
     },
     "execution_count": 30,
     "metadata": {},
     "output_type": "execute_result"
    }
   ],
   "source": [
    "bv_reviews.groupby('Historical Wards 2003-2015').ID.count().sort_values()"
   ]
  },
  {
   "cell_type": "code",
   "execution_count": 31,
   "metadata": {},
   "outputs": [
    {
     "data": {
      "text/plain": [
       "<matplotlib.axes._subplots.AxesSubplot at 0x1facbbe70a0>"
      ]
     },
     "execution_count": 31,
     "metadata": {},
     "output_type": "execute_result"
    },
    {
     "data": {
      "image/png": "[encoded data removed]",
      "text/plain": [
       "<Figure size 432x288 with 1 Axes>"
      ]
     },
     "metadata": {
      "needs_background": "light"
     },
     "output_type": "display_data"
    }
   ],
   "source": [
    "HisWards_filter_reviews = bv_reviews.groupby('Historical Wards 2003-2015').filter(lambda x: len(x) >= 2000)\n",
    "HisWards_reviews = HisWards_filter_reviews.groupby('Historical Wards 2003-2015').ID.count().sort_values()\n",
    "HisWards_reviews.plot.bar()"
   ]
  },
  {
   "cell_type": "raw",
   "metadata": {},
   "source": [
    "# Numeric type:"
   ]
  },
  {
   "cell_type": "raw",
   "metadata": {},
   "source": [
    "# LATITUDE"
   ]
  },
  {
   "cell_type": "code",
   "execution_count": 32,
   "metadata": {},
   "outputs": [
    {
     "data": {
      "text/plain": [
       "array([41.7708965 , 41.85400234, 41.91350419])"
      ]
     },
     "execution_count": 32,
     "metadata": {},
     "output_type": "execute_result"
    }
   ],
   "source": [
    "np.percentile(bv_reviews.loc[bv_reviews.LATITUDE >= min(bv_reviews.LATITUDE)].LATITUDE, (25, 50, 75))"
   ]
  },
  {
   "cell_type": "code",
   "execution_count": 33,
   "metadata": {},
   "outputs": [
    {
     "data": {
      "text/plain": [
       "1510"
      ]
     },
     "execution_count": 33,
     "metadata": {},
     "output_type": "execute_result"
    }
   ],
   "source": [
    "bv_reviews.LATITUDE.isnull().sum()"
   ]
  },
  {
   "cell_type": "code",
   "execution_count": 34,
   "metadata": {},
   "outputs": [
    {
     "data": {
      "text/plain": [
       "{'whiskers': [<matplotlib.lines.Line2D at 0x1fafcff64f0>,\n",
       "  <matplotlib.lines.Line2D at 0x1fafcff6850>],\n",
       " 'caps': [<matplotlib.lines.Line2D at 0x1fafcff6bb0>,\n",
       "  <matplotlib.lines.Line2D at 0x1fafcff6f10>],\n",
       " 'boxes': [<matplotlib.lines.Line2D at 0x1fafcff6190>],\n",
       " 'medians': [<matplotlib.lines.Line2D at 0x1fafd0022b0>],\n",
       " 'fliers': [<matplotlib.lines.Line2D at 0x1fafd0025b0>],\n",
       " 'means': []}"
      ]
     },
     "execution_count": 34,
     "metadata": {},
     "output_type": "execute_result"
    },
    {
     "data": {
      "image/png": "[encoded data removed]",
      "text/plain": [
       "<Figure size 432x288 with 1 Axes>"
      ]
     },
     "metadata": {
      "needs_background": "light"
     },
     "output_type": "display_data"
    }
   ],
   "source": [
    "plt.boxplot(bv_reviews.loc[bv_reviews.LATITUDE >= min(bv_reviews.LATITUDE)].LATITUDE)"
   ]
  },
  {
   "cell_type": "raw",
   "metadata": {},
   "source": [
    "# LONGITUDE"
   ]
  },
  {
   "cell_type": "code",
   "execution_count": 35,
   "metadata": {},
   "outputs": [
    {
     "data": {
      "text/plain": [
       "array([-87.7139177 , -87.6698535 , -87.63288274])"
      ]
     },
     "execution_count": 35,
     "metadata": {},
     "output_type": "execute_result"
    }
   ],
   "source": [
    "np.percentile(bv_reviews.loc[bv_reviews.LONGITUDE >= min(bv_reviews.LONGITUDE)].LONGITUDE, (25, 50, 75))"
   ]
  },
  {
   "cell_type": "code",
   "execution_count": 36,
   "metadata": {},
   "outputs": [
    {
     "data": {
      "text/plain": [
       "1510"
      ]
     },
     "execution_count": 36,
     "metadata": {},
     "output_type": "execute_result"
    }
   ],
   "source": [
    "bv_reviews.LONGITUDE.isnull().sum()"
   ]
  },
  {
   "cell_type": "code",
   "execution_count": 37,
   "metadata": {},
   "outputs": [
    {
     "data": {
      "text/plain": [
       "{'whiskers': [<matplotlib.lines.Line2D at 0x1fafd05a100>,\n",
       "  <matplotlib.lines.Line2D at 0x1fafd05a460>],\n",
       " 'caps': [<matplotlib.lines.Line2D at 0x1fafd05a7c0>,\n",
       "  <matplotlib.lines.Line2D at 0x1fafd05ab20>],\n",
       " 'boxes': [<matplotlib.lines.Line2D at 0x1fafd04bd60>],\n",
       " 'medians': [<matplotlib.lines.Line2D at 0x1fafd05ae80>],\n",
       " 'fliers': [<matplotlib.lines.Line2D at 0x1fafd0631c0>],\n",
       " 'means': []}"
      ]
     },
     "execution_count": 37,
     "metadata": {},
     "output_type": "execute_result"
    },
    {
     "data": {
      "image/png": "[encoded data removed]",
      "text/plain": [
       "<Figure size 432x288 with 1 Axes>"
      ]
     },
     "metadata": {
      "needs_background": "light"
     },
     "output_type": "display_data"
    }
   ],
   "source": [
    "plt.boxplot(bv_reviews.loc[bv_reviews.LONGITUDE >= min(bv_reviews.LONGITUDE)].LONGITUDE)"
   ]
  },
  {
   "cell_type": "markdown",
   "metadata": {},
   "source": [
    "# Dealing with Missing Data"
   ]
  },
  {
   "cell_type": "raw",
   "metadata": {},
   "source": [
    "# Missing Data: price\n",
    "# Some of the wine maybe too old to find the exactly price or have no standard price."
   ]
  },
  {
   "cell_type": "raw",
   "metadata": {},
   "source": [
    "# Remove missing parts"
   ]
  },
  {
   "cell_type": "code",
   "execution_count": 38,
   "metadata": {},
   "outputs": [
    {
     "data": {
      "text/html": [
       "<div>\n",
       "<style scoped>\n",
       "    .dataframe tbody tr th:only-of-type {\n",
       "        vertical-align: middle;\n",
       "    }\n",
       "\n",
       "    .dataframe tbody tr th {\n",
       "        vertical-align: top;\n",
       "    }\n",
       "\n",
       "    .dataframe thead th {\n",
       "        text-align: right;\n",
       "    }\n",
       "</style>\n",
       "<table border=\"1\" class=\"dataframe\">\n",
       "  <thead>\n",
       "    <tr style=\"text-align: right;\">\n",
       "      <th></th>\n",
       "      <th>ID</th>\n",
       "      <th>VIOLATION LAST MODIFIED DATE</th>\n",
       "      <th>VIOLATION DATE</th>\n",
       "      <th>VIOLATION CODE</th>\n",
       "      <th>VIOLATION STATUS</th>\n",
       "      <th>VIOLATION STATUS DATE</th>\n",
       "      <th>VIOLATION DESCRIPTION</th>\n",
       "      <th>VIOLATION LOCATION</th>\n",
       "      <th>VIOLATION INSPECTOR COMMENTS</th>\n",
       "      <th>VIOLATION ORDINANCE</th>\n",
       "      <th>...</th>\n",
       "      <th>SSA</th>\n",
       "      <th>LATITUDE</th>\n",
       "      <th>LONGITUDE</th>\n",
       "      <th>LOCATION</th>\n",
       "      <th>Community Areas</th>\n",
       "      <th>Zip Codes</th>\n",
       "      <th>Boundaries - ZIP Codes</th>\n",
       "      <th>Census Tracts</th>\n",
       "      <th>Wards</th>\n",
       "      <th>Historical Wards 2003-2015</th>\n",
       "    </tr>\n",
       "  </thead>\n",
       "  <tbody>\n",
       "    <tr>\n",
       "      <th>0</th>\n",
       "      <td>6392482</td>\n",
       "      <td>2019-12-04T12:40:09.000</td>\n",
       "      <td>2019-12-04T00:00:00.000</td>\n",
       "      <td>CN196019</td>\n",
       "      <td>OPEN</td>\n",
       "      <td>NaN</td>\n",
       "      <td>NO POSTED ADDRESS</td>\n",
       "      <td>OTHER   :    :OTHER</td>\n",
       "      <td>BUILDING ADRESSES - INCOMPLETE WITH MISSING #'S.</td>\n",
       "      <td>Post address of building in conspicuous place ...</td>\n",
       "      <td>...</td>\n",
       "      <td>NaN</td>\n",
       "      <td>41.749169</td>\n",
       "      <td>-87.602551</td>\n",
       "      <td>{'latitude': '41.749169067345306', 'human_addr...</td>\n",
       "      <td>40.0</td>\n",
       "      <td>21546.0</td>\n",
       "      <td>61.0</td>\n",
       "      <td>247.0</td>\n",
       "      <td>35.0</td>\n",
       "      <td>9.0</td>\n",
       "    </tr>\n",
       "    <tr>\n",
       "      <th>1</th>\n",
       "      <td>6392480</td>\n",
       "      <td>2019-12-04T12:40:09.000</td>\n",
       "      <td>2019-12-04T00:00:00.000</td>\n",
       "      <td>CN061014</td>\n",
       "      <td>OPEN</td>\n",
       "      <td>NaN</td>\n",
       "      <td>REPAIR EXTERIOR WALL</td>\n",
       "      <td>OTHER   :    :OTHER</td>\n",
       "      <td>WEST AND SOUTH ELEVATIONS / EXTERIOR WALLS - M...</td>\n",
       "      <td>Failed to maintain the exterior walls of a bui...</td>\n",
       "      <td>...</td>\n",
       "      <td>NaN</td>\n",
       "      <td>41.749169</td>\n",
       "      <td>-87.602551</td>\n",
       "      <td>{'latitude': '41.749169067345306', 'human_addr...</td>\n",
       "      <td>40.0</td>\n",
       "      <td>21546.0</td>\n",
       "      <td>61.0</td>\n",
       "      <td>247.0</td>\n",
       "      <td>35.0</td>\n",
       "      <td>9.0</td>\n",
       "    </tr>\n",
       "    <tr>\n",
       "      <th>2</th>\n",
       "      <td>6392335</td>\n",
       "      <td>2019-12-04T14:00:12.000</td>\n",
       "      <td>2019-12-04T00:00:00.000</td>\n",
       "      <td>CN138106</td>\n",
       "      <td>OPEN</td>\n",
       "      <td>NaN</td>\n",
       "      <td>STOP/REMOVE NUISANCE</td>\n",
       "      <td>OTHER   :    :OTHER</td>\n",
       "      <td>YARD AREA; ABANDON VEHICLE.</td>\n",
       "      <td>Remove and stop nuisance. (7-28-060)</td>\n",
       "      <td>...</td>\n",
       "      <td>NaN</td>\n",
       "      <td>41.711751</td>\n",
       "      <td>-87.537842</td>\n",
       "      <td>{'latitude': '41.71175105491413', 'human_addre...</td>\n",
       "      <td>49.0</td>\n",
       "      <td>21202.0</td>\n",
       "      <td>25.0</td>\n",
       "      <td>528.0</td>\n",
       "      <td>47.0</td>\n",
       "      <td>47.0</td>\n",
       "    </tr>\n",
       "    <tr>\n",
       "      <th>3</th>\n",
       "      <td>6391883</td>\n",
       "      <td>2019-12-04T08:32:01.000</td>\n",
       "      <td>2019-12-04T00:00:00.000</td>\n",
       "      <td>CN197039</td>\n",
       "      <td>OPEN</td>\n",
       "      <td>NaN</td>\n",
       "      <td>RELOCATE SMOKE DETECTOR</td>\n",
       "      <td>INTERIOR:003 :</td>\n",
       "      <td>HALLWAY - SMOKE DETECTOR - 4FT BELOW CEILING.</td>\n",
       "      <td>Relocate improperly installed smoke detectors....</td>\n",
       "      <td>...</td>\n",
       "      <td>25.0</td>\n",
       "      <td>41.844521</td>\n",
       "      <td>-87.712416</td>\n",
       "      <td>{'latitude': '41.84452110252742', 'human_addre...</td>\n",
       "      <td>32.0</td>\n",
       "      <td>21569.0</td>\n",
       "      <td>57.0</td>\n",
       "      <td>755.0</td>\n",
       "      <td>28.0</td>\n",
       "      <td>14.0</td>\n",
       "    </tr>\n",
       "    <tr>\n",
       "      <th>4</th>\n",
       "      <td>6392369</td>\n",
       "      <td>2019-12-04T14:14:24.000</td>\n",
       "      <td>2019-12-04T00:00:00.000</td>\n",
       "      <td>CN065034</td>\n",
       "      <td>OPEN</td>\n",
       "      <td>NaN</td>\n",
       "      <td>REPAIR WINDOW SILLS</td>\n",
       "      <td>OTHER   :    :OTHER</td>\n",
       "      <td>EAST WINDOW SILLS; OPEN JOINTS.</td>\n",
       "      <td>Failed to maintain window sill in good repair ...</td>\n",
       "      <td>...</td>\n",
       "      <td>NaN</td>\n",
       "      <td>41.753908</td>\n",
       "      <td>-87.562784</td>\n",
       "      <td>{'latitude': '41.75390787131238', 'human_addre...</td>\n",
       "      <td>39.0</td>\n",
       "      <td>22538.0</td>\n",
       "      <td>24.0</td>\n",
       "      <td>246.0</td>\n",
       "      <td>37.0</td>\n",
       "      <td>43.0</td>\n",
       "    </tr>\n",
       "    <tr>\n",
       "      <th>...</th>\n",
       "      <td>...</td>\n",
       "      <td>...</td>\n",
       "      <td>...</td>\n",
       "      <td>...</td>\n",
       "      <td>...</td>\n",
       "      <td>...</td>\n",
       "      <td>...</td>\n",
       "      <td>...</td>\n",
       "      <td>...</td>\n",
       "      <td>...</td>\n",
       "      <td>...</td>\n",
       "      <td>...</td>\n",
       "      <td>...</td>\n",
       "      <td>...</td>\n",
       "      <td>...</td>\n",
       "      <td>...</td>\n",
       "      <td>...</td>\n",
       "      <td>...</td>\n",
       "      <td>...</td>\n",
       "      <td>...</td>\n",
       "      <td>...</td>\n",
       "    </tr>\n",
       "    <tr>\n",
       "      <th>1677783</th>\n",
       "      <td>1479309</td>\n",
       "      <td>2006-07-14T14:23:34.000</td>\n",
       "      <td>2006-01-01T00:00:00.000</td>\n",
       "      <td>CN198019</td>\n",
       "      <td>OPEN</td>\n",
       "      <td>NaN</td>\n",
       "      <td>FILE BLDG REGISTRATION</td>\n",
       "      <td>NaN</td>\n",
       "      <td>REGISTER BUILDING 2003-06</td>\n",
       "      <td>File building registration statement with Buil...</td>\n",
       "      <td>...</td>\n",
       "      <td>NaN</td>\n",
       "      <td>41.794852</td>\n",
       "      <td>-87.619674</td>\n",
       "      <td>{'latitude': '41.794852380662455', 'human_addr...</td>\n",
       "      <td>7.0</td>\n",
       "      <td>21192.0</td>\n",
       "      <td>10.0</td>\n",
       "      <td>401.0</td>\n",
       "      <td>9.0</td>\n",
       "      <td>12.0</td>\n",
       "    </tr>\n",
       "    <tr>\n",
       "      <th>1677784</th>\n",
       "      <td>1552683</td>\n",
       "      <td>2006-08-11T14:36:28.000</td>\n",
       "      <td>2006-01-01T00:00:00.000</td>\n",
       "      <td>NC2071</td>\n",
       "      <td>OPEN</td>\n",
       "      <td>NaN</td>\n",
       "      <td>WORK NOT ALLOWED</td>\n",
       "      <td>NaN</td>\n",
       "      <td>PERMIT REQUIRED FOR LINTEL REPLACEMENT</td>\n",
       "      <td>Remove work performed without permit and resto...</td>\n",
       "      <td>...</td>\n",
       "      <td>48.0</td>\n",
       "      <td>41.909590</td>\n",
       "      <td>-87.633245</td>\n",
       "      <td>{'latitude': '41.90959014268417', 'human_addre...</td>\n",
       "      <td>37.0</td>\n",
       "      <td>14926.0</td>\n",
       "      <td>54.0</td>\n",
       "      <td>290.0</td>\n",
       "      <td>46.0</td>\n",
       "      <td>51.0</td>\n",
       "    </tr>\n",
       "    <tr>\n",
       "      <th>1677785</th>\n",
       "      <td>1479310</td>\n",
       "      <td>2008-10-08T13:58:16.000</td>\n",
       "      <td>2006-01-01T00:00:00.000</td>\n",
       "      <td>CN190029</td>\n",
       "      <td>COMPLIED</td>\n",
       "      <td>2008-08-13T00:00:00.000</td>\n",
       "      <td>ARRANGE FOR REINSPECTION REGAR</td>\n",
       "      <td>NaN</td>\n",
       "      <td>ARRANGE FOR A RE-INSPECTION</td>\n",
       "      <td>pending notice reinspection</td>\n",
       "      <td>...</td>\n",
       "      <td>NaN</td>\n",
       "      <td>41.794852</td>\n",
       "      <td>-87.619674</td>\n",
       "      <td>{'latitude': '41.794852380662455', 'human_addr...</td>\n",
       "      <td>7.0</td>\n",
       "      <td>21192.0</td>\n",
       "      <td>10.0</td>\n",
       "      <td>401.0</td>\n",
       "      <td>9.0</td>\n",
       "      <td>12.0</td>\n",
       "    </tr>\n",
       "    <tr>\n",
       "      <th>1677786</th>\n",
       "      <td>1487027</td>\n",
       "      <td>2006-07-14T14:38:23.000</td>\n",
       "      <td>2006-01-01T00:00:00.000</td>\n",
       "      <td>EL0020</td>\n",
       "      <td>OPEN</td>\n",
       "      <td>NaN</td>\n",
       "      <td>SUPPORT FIXTURES</td>\n",
       "      <td>NaN</td>\n",
       "      <td>DUP VIOLATION</td>\n",
       "      <td>Support loose light fixture. (18-27-410.15, 18...</td>\n",
       "      <td>...</td>\n",
       "      <td>NaN</td>\n",
       "      <td>41.812888</td>\n",
       "      <td>-87.617602</td>\n",
       "      <td>{'latitude': '41.812888442188886', 'human_addr...</td>\n",
       "      <td>4.0</td>\n",
       "      <td>4301.0</td>\n",
       "      <td>36.0</td>\n",
       "      <td>162.0</td>\n",
       "      <td>9.0</td>\n",
       "      <td>12.0</td>\n",
       "    </tr>\n",
       "    <tr>\n",
       "      <th>1677787</th>\n",
       "      <td>1474071</td>\n",
       "      <td>2009-11-12T09:18:47.000</td>\n",
       "      <td>2006-01-01T00:00:00.000</td>\n",
       "      <td>CN074014</td>\n",
       "      <td>COMPLIED</td>\n",
       "      <td>2009-11-10T00:00:00.000</td>\n",
       "      <td>SERVICE WALK, PASSAGE, AREAWAY</td>\n",
       "      <td>NaN</td>\n",
       "      <td>REAR SERVICE WALK BROKEN &amp; BUCKLED CONCRETE</td>\n",
       "      <td>Failed to maintain exterior service walks, pas...</td>\n",
       "      <td>...</td>\n",
       "      <td>NaN</td>\n",
       "      <td>41.802877</td>\n",
       "      <td>-87.609908</td>\n",
       "      <td>{'latitude': '41.80287663210569', 'human_addre...</td>\n",
       "      <td>4.0</td>\n",
       "      <td>21192.0</td>\n",
       "      <td>10.0</td>\n",
       "      <td>165.0</td>\n",
       "      <td>10.0</td>\n",
       "      <td>1.0</td>\n",
       "    </tr>\n",
       "  </tbody>\n",
       "</table>\n",
       "<p>1676278 rows × 32 columns</p>\n",
       "</div>"
      ],
      "text/plain": [
       "              ID VIOLATION LAST MODIFIED DATE           VIOLATION DATE  \\\n",
       "0        6392482      2019-12-04T12:40:09.000  2019-12-04T00:00:00.000   \n",
       "1        6392480      2019-12-04T12:40:09.000  2019-12-04T00:00:00.000   \n",
       "2        6392335      2019-12-04T14:00:12.000  2019-12-04T00:00:00.000   \n",
       "3        6391883      2019-12-04T08:32:01.000  2019-12-04T00:00:00.000   \n",
       "4        6392369      2019-12-04T14:14:24.000  2019-12-04T00:00:00.000   \n",
       "...          ...                          ...                      ...   \n",
       "1677783  1479309      2006-07-14T14:23:34.000  2006-01-01T00:00:00.000   \n",
       "1677784  1552683      2006-08-11T14:36:28.000  2006-01-01T00:00:00.000   \n",
       "1677785  1479310      2008-10-08T13:58:16.000  2006-01-01T00:00:00.000   \n",
       "1677786  1487027      2006-07-14T14:38:23.000  2006-01-01T00:00:00.000   \n",
       "1677787  1474071      2009-11-12T09:18:47.000  2006-01-01T00:00:00.000   \n",
       "\n",
       "        VIOLATION CODE VIOLATION STATUS    VIOLATION STATUS DATE  \\\n",
       "0             CN196019             OPEN                      NaN   \n",
       "1             CN061014             OPEN                      NaN   \n",
       "2             CN138106             OPEN                      NaN   \n",
       "3             CN197039             OPEN                      NaN   \n",
       "4             CN065034             OPEN                      NaN   \n",
       "...                ...              ...                      ...   \n",
       "1677783       CN198019             OPEN                      NaN   \n",
       "1677784         NC2071             OPEN                      NaN   \n",
       "1677785       CN190029         COMPLIED  2008-08-13T00:00:00.000   \n",
       "1677786         EL0020             OPEN                      NaN   \n",
       "1677787       CN074014         COMPLIED  2009-11-10T00:00:00.000   \n",
       "\n",
       "                  VIOLATION DESCRIPTION   VIOLATION LOCATION  \\\n",
       "0                     NO POSTED ADDRESS  OTHER   :    :OTHER   \n",
       "1                  REPAIR EXTERIOR WALL  OTHER   :    :OTHER   \n",
       "2                  STOP/REMOVE NUISANCE  OTHER   :    :OTHER   \n",
       "3               RELOCATE SMOKE DETECTOR       INTERIOR:003 :   \n",
       "4                   REPAIR WINDOW SILLS  OTHER   :    :OTHER   \n",
       "...                                 ...                  ...   \n",
       "1677783          FILE BLDG REGISTRATION                  NaN   \n",
       "1677784                WORK NOT ALLOWED                  NaN   \n",
       "1677785  ARRANGE FOR REINSPECTION REGAR                  NaN   \n",
       "1677786                SUPPORT FIXTURES                  NaN   \n",
       "1677787  SERVICE WALK, PASSAGE, AREAWAY                  NaN   \n",
       "\n",
       "                              VIOLATION INSPECTOR COMMENTS  \\\n",
       "0         BUILDING ADRESSES - INCOMPLETE WITH MISSING #'S.   \n",
       "1        WEST AND SOUTH ELEVATIONS / EXTERIOR WALLS - M...   \n",
       "2                              YARD AREA; ABANDON VEHICLE.   \n",
       "3            HALLWAY - SMOKE DETECTOR - 4FT BELOW CEILING.   \n",
       "4                          EAST WINDOW SILLS; OPEN JOINTS.   \n",
       "...                                                    ...   \n",
       "1677783                          REGISTER BUILDING 2003-06   \n",
       "1677784             PERMIT REQUIRED FOR LINTEL REPLACEMENT   \n",
       "1677785                        ARRANGE FOR A RE-INSPECTION   \n",
       "1677786                                      DUP VIOLATION   \n",
       "1677787        REAR SERVICE WALK BROKEN & BUCKLED CONCRETE   \n",
       "\n",
       "                                       VIOLATION ORDINANCE  ...   SSA  \\\n",
       "0        Post address of building in conspicuous place ...  ...   NaN   \n",
       "1        Failed to maintain the exterior walls of a bui...  ...   NaN   \n",
       "2                     Remove and stop nuisance. (7-28-060)  ...   NaN   \n",
       "3        Relocate improperly installed smoke detectors....  ...  25.0   \n",
       "4        Failed to maintain window sill in good repair ...  ...   NaN   \n",
       "...                                                    ...  ...   ...   \n",
       "1677783  File building registration statement with Buil...  ...   NaN   \n",
       "1677784  Remove work performed without permit and resto...  ...  48.0   \n",
       "1677785                        pending notice reinspection  ...   NaN   \n",
       "1677786  Support loose light fixture. (18-27-410.15, 18...  ...   NaN   \n",
       "1677787  Failed to maintain exterior service walks, pas...  ...   NaN   \n",
       "\n",
       "          LATITUDE  LONGITUDE  \\\n",
       "0        41.749169 -87.602551   \n",
       "1        41.749169 -87.602551   \n",
       "2        41.711751 -87.537842   \n",
       "3        41.844521 -87.712416   \n",
       "4        41.753908 -87.562784   \n",
       "...            ...        ...   \n",
       "1677783  41.794852 -87.619674   \n",
       "1677784  41.909590 -87.633245   \n",
       "1677785  41.794852 -87.619674   \n",
       "1677786  41.812888 -87.617602   \n",
       "1677787  41.802877 -87.609908   \n",
       "\n",
       "                                                  LOCATION Community Areas  \\\n",
       "0        {'latitude': '41.749169067345306', 'human_addr...            40.0   \n",
       "1        {'latitude': '41.749169067345306', 'human_addr...            40.0   \n",
       "2        {'latitude': '41.71175105491413', 'human_addre...            49.0   \n",
       "3        {'latitude': '41.84452110252742', 'human_addre...            32.0   \n",
       "4        {'latitude': '41.75390787131238', 'human_addre...            39.0   \n",
       "...                                                    ...             ...   \n",
       "1677783  {'latitude': '41.794852380662455', 'human_addr...             7.0   \n",
       "1677784  {'latitude': '41.90959014268417', 'human_addre...            37.0   \n",
       "1677785  {'latitude': '41.794852380662455', 'human_addr...             7.0   \n",
       "1677786  {'latitude': '41.812888442188886', 'human_addr...             4.0   \n",
       "1677787  {'latitude': '41.80287663210569', 'human_addre...             4.0   \n",
       "\n",
       "        Zip Codes Boundaries - ZIP Codes  Census Tracts Wards  \\\n",
       "0         21546.0                   61.0          247.0  35.0   \n",
       "1         21546.0                   61.0          247.0  35.0   \n",
       "2         21202.0                   25.0          528.0  47.0   \n",
       "3         21569.0                   57.0          755.0  28.0   \n",
       "4         22538.0                   24.0          246.0  37.0   \n",
       "...           ...                    ...            ...   ...   \n",
       "1677783   21192.0                   10.0          401.0   9.0   \n",
       "1677784   14926.0                   54.0          290.0  46.0   \n",
       "1677785   21192.0                   10.0          401.0   9.0   \n",
       "1677786    4301.0                   36.0          162.0   9.0   \n",
       "1677787   21192.0                   10.0          165.0  10.0   \n",
       "\n",
       "        Historical Wards 2003-2015  \n",
       "0                              9.0  \n",
       "1                              9.0  \n",
       "2                             47.0  \n",
       "3                             14.0  \n",
       "4                             43.0  \n",
       "...                            ...  \n",
       "1677783                       12.0  \n",
       "1677784                       51.0  \n",
       "1677785                       12.0  \n",
       "1677786                       12.0  \n",
       "1677787                        1.0  \n",
       "\n",
       "[1676278 rows x 32 columns]"
      ]
     },
     "execution_count": 38,
     "metadata": {},
     "output_type": "execute_result"
    }
   ],
   "source": [
    "bv_reviews_deal1 = bv_reviews[bv_reviews['LATITUDE'].notna()]\n",
    "bv_reviews_deal1"
   ]
  },
  {
   "cell_type": "code",
   "execution_count": 39,
   "metadata": {},
   "outputs": [
    {
     "data": {
      "text/plain": [
       "{'whiskers': [<matplotlib.lines.Line2D at 0x1facbb28d60>,\n",
       "  <matplotlib.lines.Line2D at 0x1facbb30190>],\n",
       " 'caps': [<matplotlib.lines.Line2D at 0x1facbb30d60>,\n",
       "  <matplotlib.lines.Line2D at 0x1facbb39190>],\n",
       " 'boxes': [<matplotlib.lines.Line2D at 0x1facbb28190>],\n",
       " 'medians': [<matplotlib.lines.Line2D at 0x1facbb39d60>],\n",
       " 'fliers': [<matplotlib.lines.Line2D at 0x1facbb400d0>],\n",
       " 'means': []}"
      ]
     },
     "execution_count": 39,
     "metadata": {},
     "output_type": "execute_result"
    },
    {
     "data": {
      "image/png": "[encoded data removed]",
      "text/plain": [
       "<Figure size 432x288 with 1 Axes>"
      ]
     },
     "metadata": {
      "needs_background": "light"
     },
     "output_type": "display_data"
    }
   ],
   "source": [
    "plt.boxplot(bv_reviews_deal1.LATITUDE)"
   ]
  },
  {
   "cell_type": "code",
   "execution_count": 40,
   "metadata": {},
   "outputs": [
    {
     "data": {
      "text/plain": [
       "{'whiskers': [<matplotlib.lines.Line2D at 0x1facb447a60>,\n",
       "  <matplotlib.lines.Line2D at 0x1facbad2520>],\n",
       " 'caps': [<matplotlib.lines.Line2D at 0x1facbad20d0>,\n",
       "  <matplotlib.lines.Line2D at 0x1facbad2d60>],\n",
       " 'boxes': [<matplotlib.lines.Line2D at 0x1facba8b7f0>],\n",
       " 'medians': [<matplotlib.lines.Line2D at 0x1facbad2be0>],\n",
       " 'fliers': [<matplotlib.lines.Line2D at 0x1facbada7c0>],\n",
       " 'means': []}"
      ]
     },
     "execution_count": 40,
     "metadata": {},
     "output_type": "execute_result"
    },
    {
     "data": {
      "image/png": "[encoded data removed]",
      "text/plain": [
       "<Figure size 432x288 with 1 Axes>"
      ]
     },
     "metadata": {
      "needs_background": "light"
     },
     "output_type": "display_data"
    }
   ],
   "source": [
    "plt.boxplot(bv_reviews_deal1.LONGITUDE)"
   ]
  },
  {
   "cell_type": "raw",
   "metadata": {},
   "source": [
    "# Fill the missing value with the highest frequency value"
   ]
  },
  {
   "cell_type": "code",
   "execution_count": 41,
   "metadata": {},
   "outputs": [
    {
     "data": {
      "text/html": [
       "<div>\n",
       "<style scoped>\n",
       "    .dataframe tbody tr th:only-of-type {\n",
       "        vertical-align: middle;\n",
       "    }\n",
       "\n",
       "    .dataframe tbody tr th {\n",
       "        vertical-align: top;\n",
       "    }\n",
       "\n",
       "    .dataframe thead th {\n",
       "        text-align: right;\n",
       "    }\n",
       "</style>\n",
       "<table border=\"1\" class=\"dataframe\">\n",
       "  <thead>\n",
       "    <tr style=\"text-align: right;\">\n",
       "      <th></th>\n",
       "      <th>ID</th>\n",
       "      <th>VIOLATION LAST MODIFIED DATE</th>\n",
       "      <th>VIOLATION DATE</th>\n",
       "      <th>VIOLATION CODE</th>\n",
       "      <th>VIOLATION STATUS</th>\n",
       "      <th>VIOLATION STATUS DATE</th>\n",
       "      <th>VIOLATION DESCRIPTION</th>\n",
       "      <th>VIOLATION LOCATION</th>\n",
       "      <th>VIOLATION INSPECTOR COMMENTS</th>\n",
       "      <th>VIOLATION ORDINANCE</th>\n",
       "      <th>...</th>\n",
       "      <th>SSA</th>\n",
       "      <th>LATITUDE</th>\n",
       "      <th>LONGITUDE</th>\n",
       "      <th>LOCATION</th>\n",
       "      <th>Community Areas</th>\n",
       "      <th>Zip Codes</th>\n",
       "      <th>Boundaries - ZIP Codes</th>\n",
       "      <th>Census Tracts</th>\n",
       "      <th>Wards</th>\n",
       "      <th>Historical Wards 2003-2015</th>\n",
       "    </tr>\n",
       "  </thead>\n",
       "  <tbody>\n",
       "    <tr>\n",
       "      <th>0</th>\n",
       "      <td>6392482</td>\n",
       "      <td>2019-12-04T12:40:09.000</td>\n",
       "      <td>2019-12-04T00:00:00.000</td>\n",
       "      <td>CN196019</td>\n",
       "      <td>OPEN</td>\n",
       "      <td>NaN</td>\n",
       "      <td>NO POSTED ADDRESS</td>\n",
       "      <td>OTHER   :    :OTHER</td>\n",
       "      <td>BUILDING ADRESSES - INCOMPLETE WITH MISSING #'S.</td>\n",
       "      <td>Post address of building in conspicuous place ...</td>\n",
       "      <td>...</td>\n",
       "      <td>NaN</td>\n",
       "      <td>41.749169</td>\n",
       "      <td>-87.602551</td>\n",
       "      <td>{'latitude': '41.749169067345306', 'human_addr...</td>\n",
       "      <td>40.0</td>\n",
       "      <td>21546.0</td>\n",
       "      <td>61.0</td>\n",
       "      <td>247.0</td>\n",
       "      <td>35.0</td>\n",
       "      <td>9.0</td>\n",
       "    </tr>\n",
       "    <tr>\n",
       "      <th>1</th>\n",
       "      <td>6392480</td>\n",
       "      <td>2019-12-04T12:40:09.000</td>\n",
       "      <td>2019-12-04T00:00:00.000</td>\n",
       "      <td>CN061014</td>\n",
       "      <td>OPEN</td>\n",
       "      <td>NaN</td>\n",
       "      <td>REPAIR EXTERIOR WALL</td>\n",
       "      <td>OTHER   :    :OTHER</td>\n",
       "      <td>WEST AND SOUTH ELEVATIONS / EXTERIOR WALLS - M...</td>\n",
       "      <td>Failed to maintain the exterior walls of a bui...</td>\n",
       "      <td>...</td>\n",
       "      <td>NaN</td>\n",
       "      <td>41.749169</td>\n",
       "      <td>-87.602551</td>\n",
       "      <td>{'latitude': '41.749169067345306', 'human_addr...</td>\n",
       "      <td>40.0</td>\n",
       "      <td>21546.0</td>\n",
       "      <td>61.0</td>\n",
       "      <td>247.0</td>\n",
       "      <td>35.0</td>\n",
       "      <td>9.0</td>\n",
       "    </tr>\n",
       "    <tr>\n",
       "      <th>2</th>\n",
       "      <td>6392335</td>\n",
       "      <td>2019-12-04T14:00:12.000</td>\n",
       "      <td>2019-12-04T00:00:00.000</td>\n",
       "      <td>CN138106</td>\n",
       "      <td>OPEN</td>\n",
       "      <td>NaN</td>\n",
       "      <td>STOP/REMOVE NUISANCE</td>\n",
       "      <td>OTHER   :    :OTHER</td>\n",
       "      <td>YARD AREA; ABANDON VEHICLE.</td>\n",
       "      <td>Remove and stop nuisance. (7-28-060)</td>\n",
       "      <td>...</td>\n",
       "      <td>NaN</td>\n",
       "      <td>41.711751</td>\n",
       "      <td>-87.537842</td>\n",
       "      <td>{'latitude': '41.71175105491413', 'human_addre...</td>\n",
       "      <td>49.0</td>\n",
       "      <td>21202.0</td>\n",
       "      <td>25.0</td>\n",
       "      <td>528.0</td>\n",
       "      <td>47.0</td>\n",
       "      <td>47.0</td>\n",
       "    </tr>\n",
       "    <tr>\n",
       "      <th>3</th>\n",
       "      <td>6391883</td>\n",
       "      <td>2019-12-04T08:32:01.000</td>\n",
       "      <td>2019-12-04T00:00:00.000</td>\n",
       "      <td>CN197039</td>\n",
       "      <td>OPEN</td>\n",
       "      <td>NaN</td>\n",
       "      <td>RELOCATE SMOKE DETECTOR</td>\n",
       "      <td>INTERIOR:003 :</td>\n",
       "      <td>HALLWAY - SMOKE DETECTOR - 4FT BELOW CEILING.</td>\n",
       "      <td>Relocate improperly installed smoke detectors....</td>\n",
       "      <td>...</td>\n",
       "      <td>25.0</td>\n",
       "      <td>41.844521</td>\n",
       "      <td>-87.712416</td>\n",
       "      <td>{'latitude': '41.84452110252742', 'human_addre...</td>\n",
       "      <td>32.0</td>\n",
       "      <td>21569.0</td>\n",
       "      <td>57.0</td>\n",
       "      <td>755.0</td>\n",
       "      <td>28.0</td>\n",
       "      <td>14.0</td>\n",
       "    </tr>\n",
       "    <tr>\n",
       "      <th>4</th>\n",
       "      <td>6392369</td>\n",
       "      <td>2019-12-04T14:14:24.000</td>\n",
       "      <td>2019-12-04T00:00:00.000</td>\n",
       "      <td>CN065034</td>\n",
       "      <td>OPEN</td>\n",
       "      <td>NaN</td>\n",
       "      <td>REPAIR WINDOW SILLS</td>\n",
       "      <td>OTHER   :    :OTHER</td>\n",
       "      <td>EAST WINDOW SILLS; OPEN JOINTS.</td>\n",
       "      <td>Failed to maintain window sill in good repair ...</td>\n",
       "      <td>...</td>\n",
       "      <td>NaN</td>\n",
       "      <td>41.753908</td>\n",
       "      <td>-87.562784</td>\n",
       "      <td>{'latitude': '41.75390787131238', 'human_addre...</td>\n",
       "      <td>39.0</td>\n",
       "      <td>22538.0</td>\n",
       "      <td>24.0</td>\n",
       "      <td>246.0</td>\n",
       "      <td>37.0</td>\n",
       "      <td>43.0</td>\n",
       "    </tr>\n",
       "    <tr>\n",
       "      <th>...</th>\n",
       "      <td>...</td>\n",
       "      <td>...</td>\n",
       "      <td>...</td>\n",
       "      <td>...</td>\n",
       "      <td>...</td>\n",
       "      <td>...</td>\n",
       "      <td>...</td>\n",
       "      <td>...</td>\n",
       "      <td>...</td>\n",
       "      <td>...</td>\n",
       "      <td>...</td>\n",
       "      <td>...</td>\n",
       "      <td>...</td>\n",
       "      <td>...</td>\n",
       "      <td>...</td>\n",
       "      <td>...</td>\n",
       "      <td>...</td>\n",
       "      <td>...</td>\n",
       "      <td>...</td>\n",
       "      <td>...</td>\n",
       "      <td>...</td>\n",
       "    </tr>\n",
       "    <tr>\n",
       "      <th>1677783</th>\n",
       "      <td>1479309</td>\n",
       "      <td>2006-07-14T14:23:34.000</td>\n",
       "      <td>2006-01-01T00:00:00.000</td>\n",
       "      <td>CN198019</td>\n",
       "      <td>OPEN</td>\n",
       "      <td>NaN</td>\n",
       "      <td>FILE BLDG REGISTRATION</td>\n",
       "      <td>NaN</td>\n",
       "      <td>REGISTER BUILDING 2003-06</td>\n",
       "      <td>File building registration statement with Buil...</td>\n",
       "      <td>...</td>\n",
       "      <td>NaN</td>\n",
       "      <td>41.794852</td>\n",
       "      <td>-87.619674</td>\n",
       "      <td>{'latitude': '41.794852380662455', 'human_addr...</td>\n",
       "      <td>7.0</td>\n",
       "      <td>21192.0</td>\n",
       "      <td>10.0</td>\n",
       "      <td>401.0</td>\n",
       "      <td>9.0</td>\n",
       "      <td>12.0</td>\n",
       "    </tr>\n",
       "    <tr>\n",
       "      <th>1677784</th>\n",
       "      <td>1552683</td>\n",
       "      <td>2006-08-11T14:36:28.000</td>\n",
       "      <td>2006-01-01T00:00:00.000</td>\n",
       "      <td>NC2071</td>\n",
       "      <td>OPEN</td>\n",
       "      <td>NaN</td>\n",
       "      <td>WORK NOT ALLOWED</td>\n",
       "      <td>NaN</td>\n",
       "      <td>PERMIT REQUIRED FOR LINTEL REPLACEMENT</td>\n",
       "      <td>Remove work performed without permit and resto...</td>\n",
       "      <td>...</td>\n",
       "      <td>48.0</td>\n",
       "      <td>41.909590</td>\n",
       "      <td>-87.633245</td>\n",
       "      <td>{'latitude': '41.90959014268417', 'human_addre...</td>\n",
       "      <td>37.0</td>\n",
       "      <td>14926.0</td>\n",
       "      <td>54.0</td>\n",
       "      <td>290.0</td>\n",
       "      <td>46.0</td>\n",
       "      <td>51.0</td>\n",
       "    </tr>\n",
       "    <tr>\n",
       "      <th>1677785</th>\n",
       "      <td>1479310</td>\n",
       "      <td>2008-10-08T13:58:16.000</td>\n",
       "      <td>2006-01-01T00:00:00.000</td>\n",
       "      <td>CN190029</td>\n",
       "      <td>COMPLIED</td>\n",
       "      <td>2008-08-13T00:00:00.000</td>\n",
       "      <td>ARRANGE FOR REINSPECTION REGAR</td>\n",
       "      <td>NaN</td>\n",
       "      <td>ARRANGE FOR A RE-INSPECTION</td>\n",
       "      <td>pending notice reinspection</td>\n",
       "      <td>...</td>\n",
       "      <td>NaN</td>\n",
       "      <td>41.794852</td>\n",
       "      <td>-87.619674</td>\n",
       "      <td>{'latitude': '41.794852380662455', 'human_addr...</td>\n",
       "      <td>7.0</td>\n",
       "      <td>21192.0</td>\n",
       "      <td>10.0</td>\n",
       "      <td>401.0</td>\n",
       "      <td>9.0</td>\n",
       "      <td>12.0</td>\n",
       "    </tr>\n",
       "    <tr>\n",
       "      <th>1677786</th>\n",
       "      <td>1487027</td>\n",
       "      <td>2006-07-14T14:38:23.000</td>\n",
       "      <td>2006-01-01T00:00:00.000</td>\n",
       "      <td>EL0020</td>\n",
       "      <td>OPEN</td>\n",
       "      <td>NaN</td>\n",
       "      <td>SUPPORT FIXTURES</td>\n",
       "      <td>NaN</td>\n",
       "      <td>DUP VIOLATION</td>\n",
       "      <td>Support loose light fixture. (18-27-410.15, 18...</td>\n",
       "      <td>...</td>\n",
       "      <td>NaN</td>\n",
       "      <td>41.812888</td>\n",
       "      <td>-87.617602</td>\n",
       "      <td>{'latitude': '41.812888442188886', 'human_addr...</td>\n",
       "      <td>4.0</td>\n",
       "      <td>4301.0</td>\n",
       "      <td>36.0</td>\n",
       "      <td>162.0</td>\n",
       "      <td>9.0</td>\n",
       "      <td>12.0</td>\n",
       "    </tr>\n",
       "    <tr>\n",
       "      <th>1677787</th>\n",
       "      <td>1474071</td>\n",
       "      <td>2009-11-12T09:18:47.000</td>\n",
       "      <td>2006-01-01T00:00:00.000</td>\n",
       "      <td>CN074014</td>\n",
       "      <td>COMPLIED</td>\n",
       "      <td>2009-11-10T00:00:00.000</td>\n",
       "      <td>SERVICE WALK, PASSAGE, AREAWAY</td>\n",
       "      <td>NaN</td>\n",
       "      <td>REAR SERVICE WALK BROKEN &amp; BUCKLED CONCRETE</td>\n",
       "      <td>Failed to maintain exterior service walks, pas...</td>\n",
       "      <td>...</td>\n",
       "      <td>NaN</td>\n",
       "      <td>41.802877</td>\n",
       "      <td>-87.609908</td>\n",
       "      <td>{'latitude': '41.80287663210569', 'human_addre...</td>\n",
       "      <td>4.0</td>\n",
       "      <td>21192.0</td>\n",
       "      <td>10.0</td>\n",
       "      <td>165.0</td>\n",
       "      <td>10.0</td>\n",
       "      <td>1.0</td>\n",
       "    </tr>\n",
       "  </tbody>\n",
       "</table>\n",
       "<p>1677788 rows × 32 columns</p>\n",
       "</div>"
      ],
      "text/plain": [
       "              ID VIOLATION LAST MODIFIED DATE           VIOLATION DATE  \\\n",
       "0        6392482      2019-12-04T12:40:09.000  2019-12-04T00:00:00.000   \n",
       "1        6392480      2019-12-04T12:40:09.000  2019-12-04T00:00:00.000   \n",
       "2        6392335      2019-12-04T14:00:12.000  2019-12-04T00:00:00.000   \n",
       "3        6391883      2019-12-04T08:32:01.000  2019-12-04T00:00:00.000   \n",
       "4        6392369      2019-12-04T14:14:24.000  2019-12-04T00:00:00.000   \n",
       "...          ...                          ...                      ...   \n",
       "1677783  1479309      2006-07-14T14:23:34.000  2006-01-01T00:00:00.000   \n",
       "1677784  1552683      2006-08-11T14:36:28.000  2006-01-01T00:00:00.000   \n",
       "1677785  1479310      2008-10-08T13:58:16.000  2006-01-01T00:00:00.000   \n",
       "1677786  1487027      2006-07-14T14:38:23.000  2006-01-01T00:00:00.000   \n",
       "1677787  1474071      2009-11-12T09:18:47.000  2006-01-01T00:00:00.000   \n",
       "\n",
       "        VIOLATION CODE VIOLATION STATUS    VIOLATION STATUS DATE  \\\n",
       "0             CN196019             OPEN                      NaN   \n",
       "1             CN061014             OPEN                      NaN   \n",
       "2             CN138106             OPEN                      NaN   \n",
       "3             CN197039             OPEN                      NaN   \n",
       "4             CN065034             OPEN                      NaN   \n",
       "...                ...              ...                      ...   \n",
       "1677783       CN198019             OPEN                      NaN   \n",
       "1677784         NC2071             OPEN                      NaN   \n",
       "1677785       CN190029         COMPLIED  2008-08-13T00:00:00.000   \n",
       "1677786         EL0020             OPEN                      NaN   \n",
       "1677787       CN074014         COMPLIED  2009-11-10T00:00:00.000   \n",
       "\n",
       "                  VIOLATION DESCRIPTION   VIOLATION LOCATION  \\\n",
       "0                     NO POSTED ADDRESS  OTHER   :    :OTHER   \n",
       "1                  REPAIR EXTERIOR WALL  OTHER   :    :OTHER   \n",
       "2                  STOP/REMOVE NUISANCE  OTHER   :    :OTHER   \n",
       "3               RELOCATE SMOKE DETECTOR       INTERIOR:003 :   \n",
       "4                   REPAIR WINDOW SILLS  OTHER   :    :OTHER   \n",
       "...                                 ...                  ...   \n",
       "1677783          FILE BLDG REGISTRATION                  NaN   \n",
       "1677784                WORK NOT ALLOWED                  NaN   \n",
       "1677785  ARRANGE FOR REINSPECTION REGAR                  NaN   \n",
       "1677786                SUPPORT FIXTURES                  NaN   \n",
       "1677787  SERVICE WALK, PASSAGE, AREAWAY                  NaN   \n",
       "\n",
       "                              VIOLATION INSPECTOR COMMENTS  \\\n",
       "0         BUILDING ADRESSES - INCOMPLETE WITH MISSING #'S.   \n",
       "1        WEST AND SOUTH ELEVATIONS / EXTERIOR WALLS - M...   \n",
       "2                              YARD AREA; ABANDON VEHICLE.   \n",
       "3            HALLWAY - SMOKE DETECTOR - 4FT BELOW CEILING.   \n",
       "4                          EAST WINDOW SILLS; OPEN JOINTS.   \n",
       "...                                                    ...   \n",
       "1677783                          REGISTER BUILDING 2003-06   \n",
       "1677784             PERMIT REQUIRED FOR LINTEL REPLACEMENT   \n",
       "1677785                        ARRANGE FOR A RE-INSPECTION   \n",
       "1677786                                      DUP VIOLATION   \n",
       "1677787        REAR SERVICE WALK BROKEN & BUCKLED CONCRETE   \n",
       "\n",
       "                                       VIOLATION ORDINANCE  ...   SSA  \\\n",
       "0        Post address of building in conspicuous place ...  ...   NaN   \n",
       "1        Failed to maintain the exterior walls of a bui...  ...   NaN   \n",
       "2                     Remove and stop nuisance. (7-28-060)  ...   NaN   \n",
       "3        Relocate improperly installed smoke detectors....  ...  25.0   \n",
       "4        Failed to maintain window sill in good repair ...  ...   NaN   \n",
       "...                                                    ...  ...   ...   \n",
       "1677783  File building registration statement with Buil...  ...   NaN   \n",
       "1677784  Remove work performed without permit and resto...  ...  48.0   \n",
       "1677785                        pending notice reinspection  ...   NaN   \n",
       "1677786  Support loose light fixture. (18-27-410.15, 18...  ...   NaN   \n",
       "1677787  Failed to maintain exterior service walks, pas...  ...   NaN   \n",
       "\n",
       "          LATITUDE  LONGITUDE  \\\n",
       "0        41.749169 -87.602551   \n",
       "1        41.749169 -87.602551   \n",
       "2        41.711751 -87.537842   \n",
       "3        41.844521 -87.712416   \n",
       "4        41.753908 -87.562784   \n",
       "...            ...        ...   \n",
       "1677783  41.794852 -87.619674   \n",
       "1677784  41.909590 -87.633245   \n",
       "1677785  41.794852 -87.619674   \n",
       "1677786  41.812888 -87.617602   \n",
       "1677787  41.802877 -87.609908   \n",
       "\n",
       "                                                  LOCATION Community Areas  \\\n",
       "0        {'latitude': '41.749169067345306', 'human_addr...            40.0   \n",
       "1        {'latitude': '41.749169067345306', 'human_addr...            40.0   \n",
       "2        {'latitude': '41.71175105491413', 'human_addre...            49.0   \n",
       "3        {'latitude': '41.84452110252742', 'human_addre...            32.0   \n",
       "4        {'latitude': '41.75390787131238', 'human_addre...            39.0   \n",
       "...                                                    ...             ...   \n",
       "1677783  {'latitude': '41.794852380662455', 'human_addr...             7.0   \n",
       "1677784  {'latitude': '41.90959014268417', 'human_addre...            37.0   \n",
       "1677785  {'latitude': '41.794852380662455', 'human_addr...             7.0   \n",
       "1677786  {'latitude': '41.812888442188886', 'human_addr...             4.0   \n",
       "1677787  {'latitude': '41.80287663210569', 'human_addre...             4.0   \n",
       "\n",
       "        Zip Codes Boundaries - ZIP Codes  Census Tracts Wards  \\\n",
       "0         21546.0                   61.0          247.0  35.0   \n",
       "1         21546.0                   61.0          247.0  35.0   \n",
       "2         21202.0                   25.0          528.0  47.0   \n",
       "3         21569.0                   57.0          755.0  28.0   \n",
       "4         22538.0                   24.0          246.0  37.0   \n",
       "...           ...                    ...            ...   ...   \n",
       "1677783   21192.0                   10.0          401.0   9.0   \n",
       "1677784   14926.0                   54.0          290.0  46.0   \n",
       "1677785   21192.0                   10.0          401.0   9.0   \n",
       "1677786    4301.0                   36.0          162.0   9.0   \n",
       "1677787   21192.0                   10.0          165.0  10.0   \n",
       "\n",
       "        Historical Wards 2003-2015  \n",
       "0                              9.0  \n",
       "1                              9.0  \n",
       "2                             47.0  \n",
       "3                             14.0  \n",
       "4                             43.0  \n",
       "...                            ...  \n",
       "1677783                       12.0  \n",
       "1677784                       51.0  \n",
       "1677785                       12.0  \n",
       "1677786                       12.0  \n",
       "1677787                        1.0  \n",
       "\n",
       "[1677788 rows x 32 columns]"
      ]
     },
     "execution_count": 41,
     "metadata": {},
     "output_type": "execute_result"
    }
   ],
   "source": [
    "bv_reviews_deal2 = bv_reviews\n",
    "ser1_deal2 = pd.Series(bv_reviews_deal1['LATITUDE'])\n",
    "ser2_deal2 = pd.Series(bv_reviews_deal1['LONGITUDE'])\n",
    "bv_reviews_deal2['LATITUDE'] = bv_reviews_deal2['LATITUDE'].fillna(ser1_deal2.mode()[0]) \n",
    "bv_reviews_deal2['LONGITUDE'] = bv_reviews_deal2['LONGITUDE'].fillna(ser2_deal2.mode()[0])\n",
    "bv_reviews_deal2"
   ]
  },
  {
   "cell_type": "code",
   "execution_count": 42,
   "metadata": {},
   "outputs": [
    {
     "data": {
      "text/plain": [
       "{'whiskers': [<matplotlib.lines.Line2D at 0x1fafd1277f0>,\n",
       "  <matplotlib.lines.Line2D at 0x1fafd127b50>],\n",
       " 'caps': [<matplotlib.lines.Line2D at 0x1fafd127eb0>,\n",
       "  <matplotlib.lines.Line2D at 0x1fafd131250>],\n",
       " 'boxes': [<matplotlib.lines.Line2D at 0x1fafd127490>],\n",
       " 'medians': [<matplotlib.lines.Line2D at 0x1fafd1315b0>],\n",
       " 'fliers': [<matplotlib.lines.Line2D at 0x1fafd1318b0>],\n",
       " 'means': []}"
      ]
     },
     "execution_count": 42,
     "metadata": {},
     "output_type": "execute_result"
    },
    {
     "data": {
      "image/png": "[encoded data removed]",
      "text/plain": [
       "<Figure size 432x288 with 1 Axes>"
      ]
     },
     "metadata": {
      "needs_background": "light"
     },
     "output_type": "display_data"
    }
   ],
   "source": [
    "plt.boxplot(bv_reviews_deal2.LATITUDE)"
   ]
  },
  {
   "cell_type": "code",
   "execution_count": 43,
   "metadata": {},
   "outputs": [
    {
     "data": {
      "text/plain": [
       "{'whiskers': [<matplotlib.lines.Line2D at 0x1fafd1807c0>,\n",
       "  <matplotlib.lines.Line2D at 0x1fafd180b20>],\n",
       " 'caps': [<matplotlib.lines.Line2D at 0x1fafd180e80>,\n",
       "  <matplotlib.lines.Line2D at 0x1fafd18d220>],\n",
       " 'boxes': [<matplotlib.lines.Line2D at 0x1fafd180460>],\n",
       " 'medians': [<matplotlib.lines.Line2D at 0x1fafd18d580>],\n",
       " 'fliers': [<matplotlib.lines.Line2D at 0x1fafd18d880>],\n",
       " 'means': []}"
      ]
     },
     "execution_count": 43,
     "metadata": {},
     "output_type": "execute_result"
    },
    {
     "data": {
      "image/png": "[encoded data removed]",
      "text/plain": [
       "<Figure size 432x288 with 1 Axes>"
      ]
     },
     "metadata": {
      "needs_background": "light"
     },
     "output_type": "display_data"
    }
   ],
   "source": [
    "plt.boxplot(bv_reviews_deal2.LONGITUDE)"
   ]
  },
  {
   "cell_type": "raw",
   "metadata": {},
   "source": [
    "# Fill missing values through similarity between data objects"
   ]
  },
  {
   "cell_type": "code",
   "execution_count": 44,
   "metadata": {},
   "outputs": [
    {
     "data": {
      "text/html": [
       "<div>\n",
       "<style scoped>\n",
       "    .dataframe tbody tr th:only-of-type {\n",
       "        vertical-align: middle;\n",
       "    }\n",
       "\n",
       "    .dataframe tbody tr th {\n",
       "        vertical-align: top;\n",
       "    }\n",
       "\n",
       "    .dataframe thead th {\n",
       "        text-align: right;\n",
       "    }\n",
       "</style>\n",
       "<table border=\"1\" class=\"dataframe\">\n",
       "  <thead>\n",
       "    <tr style=\"text-align: right;\">\n",
       "      <th></th>\n",
       "      <th>ID</th>\n",
       "      <th>VIOLATION LAST MODIFIED DATE</th>\n",
       "      <th>VIOLATION DATE</th>\n",
       "      <th>VIOLATION CODE</th>\n",
       "      <th>VIOLATION STATUS</th>\n",
       "      <th>VIOLATION STATUS DATE</th>\n",
       "      <th>VIOLATION DESCRIPTION</th>\n",
       "      <th>VIOLATION LOCATION</th>\n",
       "      <th>VIOLATION INSPECTOR COMMENTS</th>\n",
       "      <th>VIOLATION ORDINANCE</th>\n",
       "      <th>...</th>\n",
       "      <th>SSA</th>\n",
       "      <th>LATITUDE</th>\n",
       "      <th>LONGITUDE</th>\n",
       "      <th>LOCATION</th>\n",
       "      <th>Community Areas</th>\n",
       "      <th>Zip Codes</th>\n",
       "      <th>Boundaries - ZIP Codes</th>\n",
       "      <th>Census Tracts</th>\n",
       "      <th>Wards</th>\n",
       "      <th>Historical Wards 2003-2015</th>\n",
       "    </tr>\n",
       "  </thead>\n",
       "  <tbody>\n",
       "    <tr>\n",
       "      <th>0</th>\n",
       "      <td>6392482</td>\n",
       "      <td>2019-12-04T12:40:09.000</td>\n",
       "      <td>2019-12-04T00:00:00.000</td>\n",
       "      <td>CN196019</td>\n",
       "      <td>OPEN</td>\n",
       "      <td>NaN</td>\n",
       "      <td>NO POSTED ADDRESS</td>\n",
       "      <td>OTHER   :    :OTHER</td>\n",
       "      <td>BUILDING ADRESSES - INCOMPLETE WITH MISSING #'S.</td>\n",
       "      <td>Post address of building in conspicuous place ...</td>\n",
       "      <td>...</td>\n",
       "      <td>NaN</td>\n",
       "      <td>41.749169</td>\n",
       "      <td>-87.602551</td>\n",
       "      <td>{'latitude': '41.749169067345306', 'human_addr...</td>\n",
       "      <td>40.0</td>\n",
       "      <td>21546.0</td>\n",
       "      <td>61.0</td>\n",
       "      <td>247.0</td>\n",
       "      <td>35.0</td>\n",
       "      <td>9.0</td>\n",
       "    </tr>\n",
       "    <tr>\n",
       "      <th>1</th>\n",
       "      <td>6392480</td>\n",
       "      <td>2019-12-04T12:40:09.000</td>\n",
       "      <td>2019-12-04T00:00:00.000</td>\n",
       "      <td>CN061014</td>\n",
       "      <td>OPEN</td>\n",
       "      <td>NaN</td>\n",
       "      <td>REPAIR EXTERIOR WALL</td>\n",
       "      <td>OTHER   :    :OTHER</td>\n",
       "      <td>WEST AND SOUTH ELEVATIONS / EXTERIOR WALLS - M...</td>\n",
       "      <td>Failed to maintain the exterior walls of a bui...</td>\n",
       "      <td>...</td>\n",
       "      <td>NaN</td>\n",
       "      <td>41.749169</td>\n",
       "      <td>-87.602551</td>\n",
       "      <td>{'latitude': '41.749169067345306', 'human_addr...</td>\n",
       "      <td>40.0</td>\n",
       "      <td>21546.0</td>\n",
       "      <td>61.0</td>\n",
       "      <td>247.0</td>\n",
       "      <td>35.0</td>\n",
       "      <td>9.0</td>\n",
       "    </tr>\n",
       "    <tr>\n",
       "      <th>2</th>\n",
       "      <td>6392335</td>\n",
       "      <td>2019-12-04T14:00:12.000</td>\n",
       "      <td>2019-12-04T00:00:00.000</td>\n",
       "      <td>CN138106</td>\n",
       "      <td>OPEN</td>\n",
       "      <td>NaN</td>\n",
       "      <td>STOP/REMOVE NUISANCE</td>\n",
       "      <td>OTHER   :    :OTHER</td>\n",
       "      <td>YARD AREA; ABANDON VEHICLE.</td>\n",
       "      <td>Remove and stop nuisance. (7-28-060)</td>\n",
       "      <td>...</td>\n",
       "      <td>NaN</td>\n",
       "      <td>41.711751</td>\n",
       "      <td>-87.537842</td>\n",
       "      <td>{'latitude': '41.71175105491413', 'human_addre...</td>\n",
       "      <td>49.0</td>\n",
       "      <td>21202.0</td>\n",
       "      <td>25.0</td>\n",
       "      <td>528.0</td>\n",
       "      <td>47.0</td>\n",
       "      <td>47.0</td>\n",
       "    </tr>\n",
       "    <tr>\n",
       "      <th>3</th>\n",
       "      <td>6391883</td>\n",
       "      <td>2019-12-04T08:32:01.000</td>\n",
       "      <td>2019-12-04T00:00:00.000</td>\n",
       "      <td>CN197039</td>\n",
       "      <td>OPEN</td>\n",
       "      <td>NaN</td>\n",
       "      <td>RELOCATE SMOKE DETECTOR</td>\n",
       "      <td>INTERIOR:003 :</td>\n",
       "      <td>HALLWAY - SMOKE DETECTOR - 4FT BELOW CEILING.</td>\n",
       "      <td>Relocate improperly installed smoke detectors....</td>\n",
       "      <td>...</td>\n",
       "      <td>25.0</td>\n",
       "      <td>41.844521</td>\n",
       "      <td>-87.712416</td>\n",
       "      <td>{'latitude': '41.84452110252742', 'human_addre...</td>\n",
       "      <td>32.0</td>\n",
       "      <td>21569.0</td>\n",
       "      <td>57.0</td>\n",
       "      <td>755.0</td>\n",
       "      <td>28.0</td>\n",
       "      <td>14.0</td>\n",
       "    </tr>\n",
       "    <tr>\n",
       "      <th>4</th>\n",
       "      <td>6392369</td>\n",
       "      <td>2019-12-04T14:14:24.000</td>\n",
       "      <td>2019-12-04T00:00:00.000</td>\n",
       "      <td>CN065034</td>\n",
       "      <td>OPEN</td>\n",
       "      <td>NaN</td>\n",
       "      <td>REPAIR WINDOW SILLS</td>\n",
       "      <td>OTHER   :    :OTHER</td>\n",
       "      <td>EAST WINDOW SILLS; OPEN JOINTS.</td>\n",
       "      <td>Failed to maintain window sill in good repair ...</td>\n",
       "      <td>...</td>\n",
       "      <td>NaN</td>\n",
       "      <td>41.753908</td>\n",
       "      <td>-87.562784</td>\n",
       "      <td>{'latitude': '41.75390787131238', 'human_addre...</td>\n",
       "      <td>39.0</td>\n",
       "      <td>22538.0</td>\n",
       "      <td>24.0</td>\n",
       "      <td>246.0</td>\n",
       "      <td>37.0</td>\n",
       "      <td>43.0</td>\n",
       "    </tr>\n",
       "    <tr>\n",
       "      <th>...</th>\n",
       "      <td>...</td>\n",
       "      <td>...</td>\n",
       "      <td>...</td>\n",
       "      <td>...</td>\n",
       "      <td>...</td>\n",
       "      <td>...</td>\n",
       "      <td>...</td>\n",
       "      <td>...</td>\n",
       "      <td>...</td>\n",
       "      <td>...</td>\n",
       "      <td>...</td>\n",
       "      <td>...</td>\n",
       "      <td>...</td>\n",
       "      <td>...</td>\n",
       "      <td>...</td>\n",
       "      <td>...</td>\n",
       "      <td>...</td>\n",
       "      <td>...</td>\n",
       "      <td>...</td>\n",
       "      <td>...</td>\n",
       "      <td>...</td>\n",
       "    </tr>\n",
       "    <tr>\n",
       "      <th>1677783</th>\n",
       "      <td>1479309</td>\n",
       "      <td>2006-07-14T14:23:34.000</td>\n",
       "      <td>2006-01-01T00:00:00.000</td>\n",
       "      <td>CN198019</td>\n",
       "      <td>OPEN</td>\n",
       "      <td>NaN</td>\n",
       "      <td>FILE BLDG REGISTRATION</td>\n",
       "      <td>NaN</td>\n",
       "      <td>REGISTER BUILDING 2003-06</td>\n",
       "      <td>File building registration statement with Buil...</td>\n",
       "      <td>...</td>\n",
       "      <td>NaN</td>\n",
       "      <td>41.794852</td>\n",
       "      <td>-87.619674</td>\n",
       "      <td>{'latitude': '41.794852380662455', 'human_addr...</td>\n",
       "      <td>7.0</td>\n",
       "      <td>21192.0</td>\n",
       "      <td>10.0</td>\n",
       "      <td>401.0</td>\n",
       "      <td>9.0</td>\n",
       "      <td>12.0</td>\n",
       "    </tr>\n",
       "    <tr>\n",
       "      <th>1677784</th>\n",
       "      <td>1552683</td>\n",
       "      <td>2006-08-11T14:36:28.000</td>\n",
       "      <td>2006-01-01T00:00:00.000</td>\n",
       "      <td>NC2071</td>\n",
       "      <td>OPEN</td>\n",
       "      <td>NaN</td>\n",
       "      <td>WORK NOT ALLOWED</td>\n",
       "      <td>NaN</td>\n",
       "      <td>PERMIT REQUIRED FOR LINTEL REPLACEMENT</td>\n",
       "      <td>Remove work performed without permit and resto...</td>\n",
       "      <td>...</td>\n",
       "      <td>48.0</td>\n",
       "      <td>41.909590</td>\n",
       "      <td>-87.633245</td>\n",
       "      <td>{'latitude': '41.90959014268417', 'human_addre...</td>\n",
       "      <td>37.0</td>\n",
       "      <td>14926.0</td>\n",
       "      <td>54.0</td>\n",
       "      <td>290.0</td>\n",
       "      <td>46.0</td>\n",
       "      <td>51.0</td>\n",
       "    </tr>\n",
       "    <tr>\n",
       "      <th>1677785</th>\n",
       "      <td>1479310</td>\n",
       "      <td>2008-10-08T13:58:16.000</td>\n",
       "      <td>2006-01-01T00:00:00.000</td>\n",
       "      <td>CN190029</td>\n",
       "      <td>COMPLIED</td>\n",
       "      <td>2008-08-13T00:00:00.000</td>\n",
       "      <td>ARRANGE FOR REINSPECTION REGAR</td>\n",
       "      <td>NaN</td>\n",
       "      <td>ARRANGE FOR A RE-INSPECTION</td>\n",
       "      <td>pending notice reinspection</td>\n",
       "      <td>...</td>\n",
       "      <td>NaN</td>\n",
       "      <td>41.794852</td>\n",
       "      <td>-87.619674</td>\n",
       "      <td>{'latitude': '41.794852380662455', 'human_addr...</td>\n",
       "      <td>7.0</td>\n",
       "      <td>21192.0</td>\n",
       "      <td>10.0</td>\n",
       "      <td>401.0</td>\n",
       "      <td>9.0</td>\n",
       "      <td>12.0</td>\n",
       "    </tr>\n",
       "    <tr>\n",
       "      <th>1677786</th>\n",
       "      <td>1487027</td>\n",
       "      <td>2006-07-14T14:38:23.000</td>\n",
       "      <td>2006-01-01T00:00:00.000</td>\n",
       "      <td>EL0020</td>\n",
       "      <td>OPEN</td>\n",
       "      <td>NaN</td>\n",
       "      <td>SUPPORT FIXTURES</td>\n",
       "      <td>NaN</td>\n",
       "      <td>DUP VIOLATION</td>\n",
       "      <td>Support loose light fixture. (18-27-410.15, 18...</td>\n",
       "      <td>...</td>\n",
       "      <td>NaN</td>\n",
       "      <td>41.812888</td>\n",
       "      <td>-87.617602</td>\n",
       "      <td>{'latitude': '41.812888442188886', 'human_addr...</td>\n",
       "      <td>4.0</td>\n",
       "      <td>4301.0</td>\n",
       "      <td>36.0</td>\n",
       "      <td>162.0</td>\n",
       "      <td>9.0</td>\n",
       "      <td>12.0</td>\n",
       "    </tr>\n",
       "    <tr>\n",
       "      <th>1677787</th>\n",
       "      <td>1474071</td>\n",
       "      <td>2009-11-12T09:18:47.000</td>\n",
       "      <td>2006-01-01T00:00:00.000</td>\n",
       "      <td>CN074014</td>\n",
       "      <td>COMPLIED</td>\n",
       "      <td>2009-11-10T00:00:00.000</td>\n",
       "      <td>SERVICE WALK, PASSAGE, AREAWAY</td>\n",
       "      <td>NaN</td>\n",
       "      <td>REAR SERVICE WALK BROKEN &amp; BUCKLED CONCRETE</td>\n",
       "      <td>Failed to maintain exterior service walks, pas...</td>\n",
       "      <td>...</td>\n",
       "      <td>NaN</td>\n",
       "      <td>41.802877</td>\n",
       "      <td>-87.609908</td>\n",
       "      <td>{'latitude': '41.80287663210569', 'human_addre...</td>\n",
       "      <td>4.0</td>\n",
       "      <td>21192.0</td>\n",
       "      <td>10.0</td>\n",
       "      <td>165.0</td>\n",
       "      <td>10.0</td>\n",
       "      <td>1.0</td>\n",
       "    </tr>\n",
       "  </tbody>\n",
       "</table>\n",
       "<p>1677788 rows × 32 columns</p>\n",
       "</div>"
      ],
      "text/plain": [
       "              ID VIOLATION LAST MODIFIED DATE           VIOLATION DATE  \\\n",
       "0        6392482      2019-12-04T12:40:09.000  2019-12-04T00:00:00.000   \n",
       "1        6392480      2019-12-04T12:40:09.000  2019-12-04T00:00:00.000   \n",
       "2        6392335      2019-12-04T14:00:12.000  2019-12-04T00:00:00.000   \n",
       "3        6391883      2019-12-04T08:32:01.000  2019-12-04T00:00:00.000   \n",
       "4        6392369      2019-12-04T14:14:24.000  2019-12-04T00:00:00.000   \n",
       "...          ...                          ...                      ...   \n",
       "1677783  1479309      2006-07-14T14:23:34.000  2006-01-01T00:00:00.000   \n",
       "1677784  1552683      2006-08-11T14:36:28.000  2006-01-01T00:00:00.000   \n",
       "1677785  1479310      2008-10-08T13:58:16.000  2006-01-01T00:00:00.000   \n",
       "1677786  1487027      2006-07-14T14:38:23.000  2006-01-01T00:00:00.000   \n",
       "1677787  1474071      2009-11-12T09:18:47.000  2006-01-01T00:00:00.000   \n",
       "\n",
       "        VIOLATION CODE VIOLATION STATUS    VIOLATION STATUS DATE  \\\n",
       "0             CN196019             OPEN                      NaN   \n",
       "1             CN061014             OPEN                      NaN   \n",
       "2             CN138106             OPEN                      NaN   \n",
       "3             CN197039             OPEN                      NaN   \n",
       "4             CN065034             OPEN                      NaN   \n",
       "...                ...              ...                      ...   \n",
       "1677783       CN198019             OPEN                      NaN   \n",
       "1677784         NC2071             OPEN                      NaN   \n",
       "1677785       CN190029         COMPLIED  2008-08-13T00:00:00.000   \n",
       "1677786         EL0020             OPEN                      NaN   \n",
       "1677787       CN074014         COMPLIED  2009-11-10T00:00:00.000   \n",
       "\n",
       "                  VIOLATION DESCRIPTION   VIOLATION LOCATION  \\\n",
       "0                     NO POSTED ADDRESS  OTHER   :    :OTHER   \n",
       "1                  REPAIR EXTERIOR WALL  OTHER   :    :OTHER   \n",
       "2                  STOP/REMOVE NUISANCE  OTHER   :    :OTHER   \n",
       "3               RELOCATE SMOKE DETECTOR       INTERIOR:003 :   \n",
       "4                   REPAIR WINDOW SILLS  OTHER   :    :OTHER   \n",
       "...                                 ...                  ...   \n",
       "1677783          FILE BLDG REGISTRATION                  NaN   \n",
       "1677784                WORK NOT ALLOWED                  NaN   \n",
       "1677785  ARRANGE FOR REINSPECTION REGAR                  NaN   \n",
       "1677786                SUPPORT FIXTURES                  NaN   \n",
       "1677787  SERVICE WALK, PASSAGE, AREAWAY                  NaN   \n",
       "\n",
       "                              VIOLATION INSPECTOR COMMENTS  \\\n",
       "0         BUILDING ADRESSES - INCOMPLETE WITH MISSING #'S.   \n",
       "1        WEST AND SOUTH ELEVATIONS / EXTERIOR WALLS - M...   \n",
       "2                              YARD AREA; ABANDON VEHICLE.   \n",
       "3            HALLWAY - SMOKE DETECTOR - 4FT BELOW CEILING.   \n",
       "4                          EAST WINDOW SILLS; OPEN JOINTS.   \n",
       "...                                                    ...   \n",
       "1677783                          REGISTER BUILDING 2003-06   \n",
       "1677784             PERMIT REQUIRED FOR LINTEL REPLACEMENT   \n",
       "1677785                        ARRANGE FOR A RE-INSPECTION   \n",
       "1677786                                      DUP VIOLATION   \n",
       "1677787        REAR SERVICE WALK BROKEN & BUCKLED CONCRETE   \n",
       "\n",
       "                                       VIOLATION ORDINANCE  ...   SSA  \\\n",
       "0        Post address of building in conspicuous place ...  ...   NaN   \n",
       "1        Failed to maintain the exterior walls of a bui...  ...   NaN   \n",
       "2                     Remove and stop nuisance. (7-28-060)  ...   NaN   \n",
       "3        Relocate improperly installed smoke detectors....  ...  25.0   \n",
       "4        Failed to maintain window sill in good repair ...  ...   NaN   \n",
       "...                                                    ...  ...   ...   \n",
       "1677783  File building registration statement with Buil...  ...   NaN   \n",
       "1677784  Remove work performed without permit and resto...  ...  48.0   \n",
       "1677785                        pending notice reinspection  ...   NaN   \n",
       "1677786  Support loose light fixture. (18-27-410.15, 18...  ...   NaN   \n",
       "1677787  Failed to maintain exterior service walks, pas...  ...   NaN   \n",
       "\n",
       "          LATITUDE  LONGITUDE  \\\n",
       "0        41.749169 -87.602551   \n",
       "1        41.749169 -87.602551   \n",
       "2        41.711751 -87.537842   \n",
       "3        41.844521 -87.712416   \n",
       "4        41.753908 -87.562784   \n",
       "...            ...        ...   \n",
       "1677783  41.794852 -87.619674   \n",
       "1677784  41.909590 -87.633245   \n",
       "1677785  41.794852 -87.619674   \n",
       "1677786  41.812888 -87.617602   \n",
       "1677787  41.802877 -87.609908   \n",
       "\n",
       "                                                  LOCATION Community Areas  \\\n",
       "0        {'latitude': '41.749169067345306', 'human_addr...            40.0   \n",
       "1        {'latitude': '41.749169067345306', 'human_addr...            40.0   \n",
       "2        {'latitude': '41.71175105491413', 'human_addre...            49.0   \n",
       "3        {'latitude': '41.84452110252742', 'human_addre...            32.0   \n",
       "4        {'latitude': '41.75390787131238', 'human_addre...            39.0   \n",
       "...                                                    ...             ...   \n",
       "1677783  {'latitude': '41.794852380662455', 'human_addr...             7.0   \n",
       "1677784  {'latitude': '41.90959014268417', 'human_addre...            37.0   \n",
       "1677785  {'latitude': '41.794852380662455', 'human_addr...             7.0   \n",
       "1677786  {'latitude': '41.812888442188886', 'human_addr...             4.0   \n",
       "1677787  {'latitude': '41.80287663210569', 'human_addre...             4.0   \n",
       "\n",
       "        Zip Codes Boundaries - ZIP Codes  Census Tracts Wards  \\\n",
       "0         21546.0                   61.0          247.0  35.0   \n",
       "1         21546.0                   61.0          247.0  35.0   \n",
       "2         21202.0                   25.0          528.0  47.0   \n",
       "3         21569.0                   57.0          755.0  28.0   \n",
       "4         22538.0                   24.0          246.0  37.0   \n",
       "...           ...                    ...            ...   ...   \n",
       "1677783   21192.0                   10.0          401.0   9.0   \n",
       "1677784   14926.0                   54.0          290.0  46.0   \n",
       "1677785   21192.0                   10.0          401.0   9.0   \n",
       "1677786    4301.0                   36.0          162.0   9.0   \n",
       "1677787   21192.0                   10.0          165.0  10.0   \n",
       "\n",
       "        Historical Wards 2003-2015  \n",
       "0                              9.0  \n",
       "1                              9.0  \n",
       "2                             47.0  \n",
       "3                             14.0  \n",
       "4                             43.0  \n",
       "...                            ...  \n",
       "1677783                       12.0  \n",
       "1677784                       51.0  \n",
       "1677785                       12.0  \n",
       "1677786                       12.0  \n",
       "1677787                        1.0  \n",
       "\n",
       "[1677788 rows x 32 columns]"
      ]
     },
     "execution_count": 44,
     "metadata": {},
     "output_type": "execute_result"
    }
   ],
   "source": [
    "bv_reviews_deal3 = bv_reviews\n",
    "bv_reviews_deal3['LATITUDE'] = bv_reviews_deal3['LATITUDE'].fillna(method='bfill') \n",
    "bv_reviews_deal3['LONGITUDE'] = bv_reviews_deal3['LONGITUDE'].fillna(method='bfill') \n",
    "bv_reviews_deal3"
   ]
  },
  {
   "cell_type": "code",
   "execution_count": 45,
   "metadata": {},
   "outputs": [
    {
     "data": {
      "text/plain": [
       "{'whiskers': [<matplotlib.lines.Line2D at 0x1faff251850>,\n",
       "  <matplotlib.lines.Line2D at 0x1faff251bb0>],\n",
       " 'caps': [<matplotlib.lines.Line2D at 0x1faff251f10>,\n",
       "  <matplotlib.lines.Line2D at 0x1faff25d2b0>],\n",
       " 'boxes': [<matplotlib.lines.Line2D at 0x1faff2514f0>],\n",
       " 'medians': [<matplotlib.lines.Line2D at 0x1faff25d610>],\n",
       " 'fliers': [<matplotlib.lines.Line2D at 0x1faff25d910>],\n",
       " 'means': []}"
      ]
     },
     "execution_count": 45,
     "metadata": {},
     "output_type": "execute_result"
    },
    {
     "data": {
      "image/png": "[encoded data removed]",
      "text/plain": [
       "<Figure size 432x288 with 1 Axes>"
      ]
     },
     "metadata": {
      "needs_background": "light"
     },
     "output_type": "display_data"
    }
   ],
   "source": [
    "plt.boxplot(bv_reviews_deal3.LATITUDE)"
   ]
  },
  {
   "cell_type": "code",
   "execution_count": 46,
   "metadata": {},
   "outputs": [
    {
     "data": {
      "text/plain": [
       "{'whiskers': [<matplotlib.lines.Line2D at 0x1faff2ad820>,\n",
       "  <matplotlib.lines.Line2D at 0x1faff2adb80>],\n",
       " 'caps': [<matplotlib.lines.Line2D at 0x1faff2adee0>,\n",
       "  <matplotlib.lines.Line2D at 0x1faff2b9280>],\n",
       " 'boxes': [<matplotlib.lines.Line2D at 0x1faff2ad4c0>],\n",
       " 'medians': [<matplotlib.lines.Line2D at 0x1faff2b95e0>],\n",
       " 'fliers': [<matplotlib.lines.Line2D at 0x1faff2b98e0>],\n",
       " 'means': []}"
      ]
     },
     "execution_count": 46,
     "metadata": {},
     "output_type": "execute_result"
    },
    {
     "data": {
      "image/png": "[encoded data removed]",
      "text/plain": [
       "<Figure size 432x288 with 1 Axes>"
      ]
     },
     "metadata": {
      "needs_background": "light"
     },
     "output_type": "display_data"
    }
   ],
   "source": [
    "plt.boxplot(bv_reviews_deal3.LONGITUDE)"
   ]
  }
 ],
 "metadata": {
  "kernelspec": {
   "display_name": "Python 3",
   "language": "python",
   "name": "python3"
  },
  "language_info": {
   "codemirror_mode": {
    "name": "ipython",
    "version": 3
   },
   "file_extension": ".py",
   "mimetype": "text/x-python",
   "name": "python",
   "nbconvert_exporter": "python",
   "pygments_lexer": "ipython3",
   "version": "3.8.2"
  }
 },
 "nbformat": 4,
 "nbformat_minor": 4
}
